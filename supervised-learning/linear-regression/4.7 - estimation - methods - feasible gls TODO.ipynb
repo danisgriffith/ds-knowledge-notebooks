{
 "cells": [
  {
   "cell_type": "markdown",
   "metadata": {},
   "source": [
    "# FEASIBLE GENERALIZED LEAST SQUARES\n",
    "\n",
    "<br>"
   ]
  },
  {
   "cell_type": "markdown",
   "metadata": {},
   "source": [
    "## Introduction\n",
    "\n",
    "<br>\n",
    "Since the covariance matrix of the disturbance term $\\mathbf{\\Sigma}$ is unknown, we need to use an estimator $\\hat{\\mathbf{\\Sigma}}$ :\n",
    "\n",
    "<br>\n",
    "$\n",
    "    \\quad\n",
    "    \\boldsymbol{\\hat{\\beta}_{FGLS-1}} \n",
    "    = \\big[ \\mathbf{X}^{\\top} \\ \\hat{\\mathbf{\\Sigma}}^{-1} \\ \\mathbf{X} \\big] ^{-1} \n",
    "      \\mathbf{X}^{\\top} \\ \\hat{\\mathbf{\\Sigma}}^{-1} \\ \\mathbf{Y}    \n",
    "$\n",
    "\n",
    "<br>\n",
    "Note, however, that $\\hat{\\mathbf{\\Sigma}}$ contains too many ($m(m + 1)/2$) parameters; a proper estimation of $\\hat{\\mathbf{\\Sigma}}$ would not be possible unless further restrictions on the elements of $\\mathbf{\\Sigma}$ are imposed. \n",
    "\n",
    "<br>\n",
    "Under different assumptions on $\\mathrm{V}(\\boldsymbol{\\varepsilon})$, $\\mathbf{\\Sigma}$ has a simpler structure with much fewer ($p \\ll N$) unknown parameters and may be properly estimated. The properties of FGLS estimation crucially depend on these further assumptions regarding heteroscedasticity and independence which we will examine in the next two sections of the notebook."
   ]
  },
  {
   "cell_type": "markdown",
   "metadata": {},
   "source": [
    "## Heteroscedasticity\n",
    "\n",
    "<br>\n",
    "Given the following covariance matrix, where the disturbance terms are uncorrelated but may still have different variances, we can compute a different transformation matrix $\\mathbf{G}$ : \n",
    "\n",
    "<br>\n",
    "$\n",
    "    \\quad\n",
    "    \\mathrm{V}(\\boldsymbol{\\varepsilon}) \n",
    "    \\quad = \\quad\n",
    "    \\begin{bmatrix}\n",
    "        {\\sigma_1}^2  &  0             &  \\dots   &  0             \\\\\n",
    "        0             &  {\\sigma_2}^2  &  \\dots   &  0             \\\\ \n",
    "        \\vdots        &  \\vdots        &  \\vdots  &  \\vdots        \\\\\n",
    "        \\vdots        &  \\vdots        &  \\ddots  &  \\vdots        \\\\ \n",
    "        0             &  0             &  \\dots   &  {\\sigma_m}^2 \n",
    "    \\end{bmatrix} _\\textit{ m x m }\n",
    "    \\qquad \\Rightarrow \\qquad\n",
    "    \\mathbf{G} \n",
    "    \\quad = \\quad \\mathbf{\\Sigma}^{\\ -1/2} \n",
    "    \\quad = \\quad \n",
    "        \\begin{bmatrix}\n",
    "            {\\sigma_1}^{-1}  &  0                &  \\dots   &  0                \\\\\n",
    "            0                &  {\\sigma_2}^{-1}  &  \\dots   &  0                \\\\ \n",
    "            \\vdots           &  \\vdots           &  \\vdots  &  \\vdots           \\\\\n",
    "            \\vdots           &  \\vdots           &  \\ddots  &  \\vdots           \\\\ \n",
    "            0                &  0                &  \\dots   &  {\\sigma_m}^{-1}\n",
    "        \\end{bmatrix} _\\textit{ m x m }\n",
    "$\n",
    "\n",
    "<br>\n",
    "As $\\hat{\\mathbf{\\Sigma}}$ still contains $N$ unknown parameters, an even simpler structure of $\\hat{\\mathbf{\\Sigma}}$ is needed\n",
    "to ensure proper FGLS estimation.\n"
   ]
  },
  {
   "cell_type": "markdown",
   "metadata": {},
   "source": [
    "## Auto Correlation TODO\n",
    "\n",
    "<br>"
   ]
  },
  {
   "cell_type": "markdown",
   "metadata": {},
   "source": [
    "## References\n",
    "\n",
    "<br>\n",
    "<ul style=\"list-style-type:square\">\n",
    "    <li>\n",
    "        National Taiwan University - Chung-Ming Kuan - \n",
    "        <a href=\"https://bit.ly/2IJ3hmG\">\n",
    "        Generalized Least Squares Theory</a>\n",
    "    </li>\n",
    "    <br>\n",
    "    <li>\n",
    "        Carleton University - Ba Chu - \n",
    "        <a href=\"https://bit.ly/2J9PpB4\">\n",
    "        Generalized Least Squares Theory</a>\n",
    "    </li>\n",
    "    <br>\n",
    "    <li>\n",
    "        University of California at Berkeley - James Powell - \n",
    "        <a href=\"https://bit.ly/2x9Oj3B\">\n",
    "        Aitken Generalized Least Squares</a>\n",
    "    </li>\n",
    "    <br>\n",
    "    <li>\n",
    "        National Institute of Standards and Technology - \n",
    "        <a href=\"https://bit.ly/2GJ8tRD\">\n",
    "        Accounting for Non-Constant Variation Across the Data TODO</a>\n",
    "    </li>     \n",
    "</ul>\n"
   ]
  }
 ],
 "metadata": {
  "kernelspec": {
   "display_name": "Python 3",
   "language": "python",
   "name": "python3"
  },
  "language_info": {
   "codemirror_mode": {
    "name": "ipython",
    "version": 3
   },
   "file_extension": ".py",
   "mimetype": "text/x-python",
   "name": "python",
   "nbconvert_exporter": "python",
   "pygments_lexer": "ipython3",
   "version": "3.6.1"
  }
 },
 "nbformat": 4,
 "nbformat_minor": 2
}
