{
 "cells": [
  {
   "cell_type": "markdown",
   "metadata": {},
   "source": [
    "# ESTIMATION\n",
    "<br>\n"
   ]
  },
  {
   "cell_type": "markdown",
   "metadata": {},
   "source": [
    "## Introduction\n",
    "\n",
    "<br>\n",
    "An <b>estimator</b> of a population parameter is a rule, formula, or procedure for computing a numerical estimate of an unknown population parameter from the sample values of the observable variables.\n",
    "\n",
    "<br>\n",
    "The term <b>estimate</b> refers instead to the specific numerical values returned by the estimator when the formula is evaluated for a specific set of sample values $(\\boldsymbol{\\mathbf{Y}_i}, \\boldsymbol{\\mathbf{X}_i}) \\ (i = 1, \\dots , m)$ of the observable variables $\\mathbf{Y}$ and $\\mathbf{X}$. \n",
    "\n",
    "<br>\n",
    "An estimator possesses two critical properties : <br>\n",
    "\n",
    "<ul style=\"list-style-type:square\">\n",
    "    <li>\n",
    "         is a function only of the given sample data $(\\boldsymbol{\\mathbf{Y}_i},\\boldsymbol{\\mathbf{X}_i})$; \n",
    "         this function does not contain any unknown parameters\n",
    "    </li>\n",
    "    <br>\n",
    "    <li>\n",
    "        is a random (or statistic) variable  because it is a function of the sample data \n",
    "        $(\\boldsymbol{\\mathbf{Y}_i},\\boldsymbol{\\mathbf{X}_i})$; an estimator has therefore a probability distribution, which is\n",
    "        called the sampling distribution of the estimator. \n",
    "    </li>\n",
    "</ul>\n",
    "\n",
    "<br>\n",
    "Given the following population regression equation (PRE) and the corresponding sample regression equation (SRE) \n",
    "\n",
    "<br>\n",
    "$\n",
    "    \\quad\n",
    "    \\begin{align}\n",
    "        \\boldsymbol{\\mathbf{Y}_i} = \\boldsymbol{\\beta}\\boldsymbol{\\mathbf{X}_i} + \\boldsymbol{\\varepsilon_i}\n",
    "        & \\quad \\textbf{PRE}\n",
    "        \\newline\n",
    "        \\boldsymbol{\\hat{\\mathbf{Y}}}\\boldsymbol{_i}\n",
    "        = \\boldsymbol{\\hat{\\beta}}\\boldsymbol{\\mathbf{X}_i} + \\boldsymbol{\\mathbf{e}_i}\n",
    "        & \\quad \\textbf{SRE}\n",
    "    \\end{align}\n",
    "$\n",
    "\n",
    "the <b>estimation problem</b> consists of constructing or deriving the coefficient estimators $\\hat{\\boldsymbol{\\beta}}\\boldsymbol{_j} \\text{ } (i = 1, \\dots , p)$ for any given sample of N observations of the observable variables $\\mathbf{Y}$ and $\\mathbf{X}$."
   ]
  },
  {
   "cell_type": "markdown",
   "metadata": {},
   "source": [
    "## References\n",
    "\n",
    "<br>\n",
    "<ul style=\"list-style-type:square\">\n",
    "    <li>\n",
    "         Queen's University at Kingston - Economics 351 - M.G. Abbott -  <br>\n",
    "         <a href=\"https://bit.ly/2KT4CnF\">\n",
    "         Ordinary Least Squares (OLS) Estimation of the Simple CLRM</a>\n",
    "    </li>\n",
    "</ul>\n"
   ]
  }
 ],
 "metadata": {
  "kernelspec": {
   "display_name": "Python 3",
   "language": "python",
   "name": "python3"
  },
  "language_info": {
   "codemirror_mode": {
    "name": "ipython",
    "version": 3
   },
   "file_extension": ".py",
   "mimetype": "text/x-python",
   "name": "python",
   "nbconvert_exporter": "python",
   "pygments_lexer": "ipython3",
   "version": "3.6.1"
  }
 },
 "nbformat": 4,
 "nbformat_minor": 2
}
