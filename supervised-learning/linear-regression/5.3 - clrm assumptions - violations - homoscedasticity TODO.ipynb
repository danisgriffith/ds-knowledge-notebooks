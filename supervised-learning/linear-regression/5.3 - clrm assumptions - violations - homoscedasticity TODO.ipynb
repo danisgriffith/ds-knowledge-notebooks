{
 "cells": [
  {
   "cell_type": "markdown",
   "metadata": {},
   "source": [
    "# VIOLATION OF HOMOSCEDASTICITY\n",
    "\n",
    "<br>"
   ]
  },
  {
   "cell_type": "markdown",
   "metadata": {},
   "source": [
    "## Introduction\n",
    "\n",
    "<br>\n",
    "The assumption of homoscedasticity (<b>A3</b>) states that : \n",
    "\n",
    "<br>\n",
    "<blockquote>\n",
    "The conditional variances of the disturbance terms $\\boldsymbol{\\varepsilon_i}$ are identical for all observations (all population values $\\boldsymbol{\\mathbf{X}_i}$) and equal the same finite positive (unknown) constant $\\boldsymbol{\\sigma^2}$.\n",
    "</blockquote>\n",
    "\n",
    "<br>\n",
    "<blockquote>\n",
    "$\n",
    "    \\mathrm{Var} (\\boldsymbol{\\varepsilon_i} \\mid \\boldsymbol{\\mathbf{X}_i})\n",
    "    \\ = \\ \\boldsymbol{\\sigma^2} > 0 \\quad \\forall i \\quad \\text{(i = 1,} \\dots \\text{, m)}    \n",
    "$    \n",
    "</blockquote>\n",
    "\n",
    "<br>\n",
    "A collection of random variables is said to be heteroscedastic (or to present heteroscedasticity) if there are sub-populations having different variabilities from others; in this context variability could be quantified by the variance or any other measure of statistical dispersion. Thus <b>heteroscedasticity</b> can be defined as the violation of homoscedasticity."
   ]
  },
  {
   "cell_type": "markdown",
   "metadata": {},
   "source": [
    "## Consequences\n",
    "\n",
    "<br>\n",
    "Homoscedasticity is not required for the estimates to be <b>unbiased, consistent, and asymptotically normal</b>. \n",
    "\n",
    "<br>\n",
    "Violations of the assumption of homoscedasticity will affect our estimation however :\n",
    "\n",
    "<br>\n",
    "<ul style=\"list-style-type:square\">\n",
    "    <li>\n",
    "        the OLS estimator $\\hat{\\boldsymbol{\\beta}}_\\boldsymbol{OLS-1}$ will no longer have the lowest variance in the class of\n",
    "        the linear unbiased estimators (loss of efficiency)\n",
    "    </li>\n",
    "    <br>\n",
    "    <li>\n",
    "        as a direct consequence, OLS is no longer the Best Linear Unbiased Estimator of the population parameters\n",
    "    </li>\n",
    "    <br>\n",
    "    <li>\n",
    "        the OLS estimator $\\mathrm{V}(\\hat{\\boldsymbol{\\beta}}_\\boldsymbol{OLS}) $ ,and thus the standard errors as well, may be\n",
    "        both biased and inconsistent\n",
    "    </li>\n",
    "    <br>\n",
    "    <li>\n",
    "        biased standard errors lead to biased inference, meaning confidence intervals and the results of hypothesis tests are no\n",
    "        longer reliable        \n",
    "    </li>\n",
    "</ul>\n"
   ]
  },
  {
   "cell_type": "markdown",
   "metadata": {},
   "source": [
    "## Detection\n",
    "\n",
    "<br>\n",
    "There are several methods to test for the presence of heteroscedasticity. The tests below consist of a test statistic (a mathematical expression yielding a numerical value as a function of the data), a hypothesis that is going to be tested (the null hypothesis), an alternative hypothesis, and a statement about the distribution of statistic under the null hypothesis.\n",
    "\n",
    "<br>\n",
    "<ul style=\"list-style-type:square\">\n",
    "    <li> \n",
    "        <a href=\"https://bit.ly/2s78aKU\">Levene's test</a> \n",
    "    </li>\n",
    "    <br> \n",
    "    <li> \n",
    "        <a href=\"https://bit.ly/2ILCrGl\">Goldfeld – Quandt test</a>\n",
    "    </li>\n",
    "    <br>\n",
    "    <li> \n",
    "        <a href=\"https://bit.ly/2klUkkx\">Park test</a>\n",
    "    </li>\n",
    "    <br>\n",
    "    <li> \n",
    "        <a href=\"https://bit.ly/2GMDrs3\">Glejser test</a>\n",
    "    </li>\n",
    "    <br>\n",
    "    <li> \n",
    "        <a href=\"https://bit.ly/2koRv2c\">Brown – Forsythe test</a>\n",
    "    </li>\n",
    "    <br>\n",
    "    <li> Harrison – McCabe test </li>\n",
    "    <br>\n",
    "    <li> \n",
    "        <a href=\"https://bit.ly/2IGYDFv\">Breusch – Pagan test</a>\n",
    "    </li>\n",
    "    <br>\n",
    "    <li> \n",
    "        <a href=\"https://bit.ly/2s6LvPU\">White test</a>\n",
    "    </li>\n",
    "    <br>\n",
    "    <li> Cook – Weisberg test </li>\n",
    "</ul>"
   ]
  },
  {
   "cell_type": "markdown",
   "metadata": {},
   "source": [
    "## Residuals-vs-Fits plot\n",
    "\n",
    "<br>\n",
    "Heteroskedasticity can also be informally detected by looking at the <b>residuals-vs-fits plot</b> or, in the case of time series data, at the <b>residuals-vs-time plot</b>. To be really thorough, we should also generate plots of residuals vs independent variables to look for consistency there as well.  \n",
    "\n",
    "<br>\n",
    "When the residuals roughly form a sort of \"horizontal band\" around the zero horizontal line, this suggests that the error terms have a constant variance regardless of the value of the regressors. \n"
   ]
  },
  {
   "cell_type": "code",
   "execution_count": 1,
   "metadata": {},
   "outputs": [
    {
     "name": "stderr",
     "output_type": "stream",
     "text": [
      "C:\\Users\\danis_p50\\Anaconda3\\lib\\site-packages\\statsmodels\\compat\\pandas.py:56: FutureWarning: The pandas.core.datetools module is deprecated and will be removed in a future version. Please use the pandas.tseries module instead.\n",
      "  from pandas.core import datetools\n"
     ]
    },
    {
     "ename": "FileNotFoundError",
     "evalue": "File b'../datasets/alcoholarm.txt' does not exist",
     "output_type": "error",
     "traceback": [
      "\u001b[1;31m---------------------------------------------------------------------------\u001b[0m",
      "\u001b[1;31mFileNotFoundError\u001b[0m                         Traceback (most recent call last)",
      "\u001b[1;32m<ipython-input-1-d1d36285ae86>\u001b[0m in \u001b[0;36m<module>\u001b[1;34m()\u001b[0m\n\u001b[0;32m      1\u001b[0m \u001b[1;32mimport\u001b[0m \u001b[0mlinear_regression\u001b[0m \u001b[1;32mas\u001b[0m \u001b[0mlr\u001b[0m\u001b[1;33m\u001b[0m\u001b[0m\n\u001b[1;32m----> 2\u001b[1;33m \u001b[0mlr\u001b[0m\u001b[1;33m.\u001b[0m\u001b[0mplot_residuals_vs_fits\u001b[0m\u001b[1;33m(\u001b[0m\u001b[0mcmd\u001b[0m \u001b[1;33m=\u001b[0m \u001b[1;34m'homoscedasticity_correct'\u001b[0m\u001b[1;33m)\u001b[0m\u001b[1;33m\u001b[0m\u001b[0m\n\u001b[0m",
      "\u001b[1;32mC:\\Users\\danis_p50\\jupyter\\lib\\linear_regression.py\u001b[0m in \u001b[0;36mplot_residuals_vs_fits\u001b[1;34m(cmd, inline)\u001b[0m\n\u001b[0;32m     77\u001b[0m \u001b[1;33m\u001b[0m\u001b[0m\n\u001b[0;32m     78\u001b[0m     \u001b[1;32melif\u001b[0m \u001b[1;33m(\u001b[0m\u001b[0mcmd\u001b[0m \u001b[1;33m==\u001b[0m \u001b[1;34m'homoscedasticity_correct'\u001b[0m\u001b[1;33m)\u001b[0m\u001b[1;33m:\u001b[0m\u001b[1;33m\u001b[0m\u001b[0m\n\u001b[1;32m---> 79\u001b[1;33m         \u001b[0mplot_residuals_vs_fits_homoscedasticity_correct\u001b[0m\u001b[1;33m(\u001b[0m\u001b[1;33m)\u001b[0m\u001b[1;33m\u001b[0m\u001b[0m\n\u001b[0m\u001b[0;32m     80\u001b[0m     \u001b[1;32melif\u001b[0m \u001b[1;33m(\u001b[0m\u001b[0mcmd\u001b[0m \u001b[1;33m==\u001b[0m \u001b[1;34m'homoscedasticity_violation'\u001b[0m\u001b[1;33m)\u001b[0m\u001b[1;33m:\u001b[0m\u001b[1;33m\u001b[0m\u001b[0m\n\u001b[0;32m     81\u001b[0m         \u001b[0mplot_residuals_vs_fits_homoscedasticity_violation\u001b[0m\u001b[1;33m(\u001b[0m\u001b[1;33m)\u001b[0m\u001b[1;33m\u001b[0m\u001b[0m\n",
      "\u001b[1;32mC:\\Users\\danis_p50\\jupyter\\lib\\linear_regression.py\u001b[0m in \u001b[0;36mplot_residuals_vs_fits_homoscedasticity_correct\u001b[1;34m()\u001b[0m\n\u001b[0;32m    201\u001b[0m \u001b[1;33m\u001b[0m\u001b[0m\n\u001b[0;32m    202\u001b[0m \u001b[1;32mdef\u001b[0m \u001b[0mplot_residuals_vs_fits_homoscedasticity_correct\u001b[0m\u001b[1;33m(\u001b[0m\u001b[1;33m)\u001b[0m\u001b[1;33m:\u001b[0m\u001b[1;33m\u001b[0m\u001b[0m\n\u001b[1;32m--> 203\u001b[1;33m     \u001b[0mdf\u001b[0m \u001b[1;33m=\u001b[0m \u001b[0mpd\u001b[0m\u001b[1;33m.\u001b[0m\u001b[0mread_table\u001b[0m\u001b[1;33m(\u001b[0m\u001b[1;34m'../datasets/alcoholarm.txt'\u001b[0m\u001b[1;33m,\u001b[0m \u001b[0mheader\u001b[0m \u001b[1;33m=\u001b[0m \u001b[1;36m0\u001b[0m\u001b[1;33m,\u001b[0m \u001b[0mnames\u001b[0m \u001b[1;33m=\u001b[0m \u001b[1;33m[\u001b[0m\u001b[1;34m'x'\u001b[0m\u001b[1;33m,\u001b[0m \u001b[1;34m'y'\u001b[0m\u001b[1;33m]\u001b[0m\u001b[1;33m)\u001b[0m\u001b[1;33m\u001b[0m\u001b[0m\n\u001b[0m\u001b[0;32m    204\u001b[0m \u001b[1;33m\u001b[0m\u001b[0m\n\u001b[0;32m    205\u001b[0m     \u001b[0mtrain_perc\u001b[0m \u001b[1;33m=\u001b[0m \u001b[1;36m0.8\u001b[0m\u001b[1;33m\u001b[0m\u001b[0m\n",
      "\u001b[1;32mC:\\Users\\danis_p50\\Anaconda3\\lib\\site-packages\\pandas\\io\\parsers.py\u001b[0m in \u001b[0;36mparser_f\u001b[1;34m(filepath_or_buffer, sep, delimiter, header, names, index_col, usecols, squeeze, prefix, mangle_dupe_cols, dtype, engine, converters, true_values, false_values, skipinitialspace, skiprows, nrows, na_values, keep_default_na, na_filter, verbose, skip_blank_lines, parse_dates, infer_datetime_format, keep_date_col, date_parser, dayfirst, iterator, chunksize, compression, thousands, decimal, lineterminator, quotechar, quoting, escapechar, comment, encoding, dialect, tupleize_cols, error_bad_lines, warn_bad_lines, skipfooter, skip_footer, doublequote, delim_whitespace, as_recarray, compact_ints, use_unsigned, low_memory, buffer_lines, memory_map, float_precision)\u001b[0m\n\u001b[0;32m    653\u001b[0m                     skip_blank_lines=skip_blank_lines)\n\u001b[0;32m    654\u001b[0m \u001b[1;33m\u001b[0m\u001b[0m\n\u001b[1;32m--> 655\u001b[1;33m         \u001b[1;32mreturn\u001b[0m \u001b[0m_read\u001b[0m\u001b[1;33m(\u001b[0m\u001b[0mfilepath_or_buffer\u001b[0m\u001b[1;33m,\u001b[0m \u001b[0mkwds\u001b[0m\u001b[1;33m)\u001b[0m\u001b[1;33m\u001b[0m\u001b[0m\n\u001b[0m\u001b[0;32m    656\u001b[0m \u001b[1;33m\u001b[0m\u001b[0m\n\u001b[0;32m    657\u001b[0m     \u001b[0mparser_f\u001b[0m\u001b[1;33m.\u001b[0m\u001b[0m__name__\u001b[0m \u001b[1;33m=\u001b[0m \u001b[0mname\u001b[0m\u001b[1;33m\u001b[0m\u001b[0m\n",
      "\u001b[1;32mC:\\Users\\danis_p50\\Anaconda3\\lib\\site-packages\\pandas\\io\\parsers.py\u001b[0m in \u001b[0;36m_read\u001b[1;34m(filepath_or_buffer, kwds)\u001b[0m\n\u001b[0;32m    403\u001b[0m \u001b[1;33m\u001b[0m\u001b[0m\n\u001b[0;32m    404\u001b[0m     \u001b[1;31m# Create the parser.\u001b[0m\u001b[1;33m\u001b[0m\u001b[1;33m\u001b[0m\u001b[0m\n\u001b[1;32m--> 405\u001b[1;33m     \u001b[0mparser\u001b[0m \u001b[1;33m=\u001b[0m \u001b[0mTextFileReader\u001b[0m\u001b[1;33m(\u001b[0m\u001b[0mfilepath_or_buffer\u001b[0m\u001b[1;33m,\u001b[0m \u001b[1;33m**\u001b[0m\u001b[0mkwds\u001b[0m\u001b[1;33m)\u001b[0m\u001b[1;33m\u001b[0m\u001b[0m\n\u001b[0m\u001b[0;32m    406\u001b[0m \u001b[1;33m\u001b[0m\u001b[0m\n\u001b[0;32m    407\u001b[0m     \u001b[1;32mif\u001b[0m \u001b[0mchunksize\u001b[0m \u001b[1;32mor\u001b[0m \u001b[0miterator\u001b[0m\u001b[1;33m:\u001b[0m\u001b[1;33m\u001b[0m\u001b[0m\n",
      "\u001b[1;32mC:\\Users\\danis_p50\\Anaconda3\\lib\\site-packages\\pandas\\io\\parsers.py\u001b[0m in \u001b[0;36m__init__\u001b[1;34m(self, f, engine, **kwds)\u001b[0m\n\u001b[0;32m    760\u001b[0m             \u001b[0mself\u001b[0m\u001b[1;33m.\u001b[0m\u001b[0moptions\u001b[0m\u001b[1;33m[\u001b[0m\u001b[1;34m'has_index_names'\u001b[0m\u001b[1;33m]\u001b[0m \u001b[1;33m=\u001b[0m \u001b[0mkwds\u001b[0m\u001b[1;33m[\u001b[0m\u001b[1;34m'has_index_names'\u001b[0m\u001b[1;33m]\u001b[0m\u001b[1;33m\u001b[0m\u001b[0m\n\u001b[0;32m    761\u001b[0m \u001b[1;33m\u001b[0m\u001b[0m\n\u001b[1;32m--> 762\u001b[1;33m         \u001b[0mself\u001b[0m\u001b[1;33m.\u001b[0m\u001b[0m_make_engine\u001b[0m\u001b[1;33m(\u001b[0m\u001b[0mself\u001b[0m\u001b[1;33m.\u001b[0m\u001b[0mengine\u001b[0m\u001b[1;33m)\u001b[0m\u001b[1;33m\u001b[0m\u001b[0m\n\u001b[0m\u001b[0;32m    763\u001b[0m \u001b[1;33m\u001b[0m\u001b[0m\n\u001b[0;32m    764\u001b[0m     \u001b[1;32mdef\u001b[0m \u001b[0mclose\u001b[0m\u001b[1;33m(\u001b[0m\u001b[0mself\u001b[0m\u001b[1;33m)\u001b[0m\u001b[1;33m:\u001b[0m\u001b[1;33m\u001b[0m\u001b[0m\n",
      "\u001b[1;32mC:\\Users\\danis_p50\\Anaconda3\\lib\\site-packages\\pandas\\io\\parsers.py\u001b[0m in \u001b[0;36m_make_engine\u001b[1;34m(self, engine)\u001b[0m\n\u001b[0;32m    964\u001b[0m     \u001b[1;32mdef\u001b[0m \u001b[0m_make_engine\u001b[0m\u001b[1;33m(\u001b[0m\u001b[0mself\u001b[0m\u001b[1;33m,\u001b[0m \u001b[0mengine\u001b[0m\u001b[1;33m=\u001b[0m\u001b[1;34m'c'\u001b[0m\u001b[1;33m)\u001b[0m\u001b[1;33m:\u001b[0m\u001b[1;33m\u001b[0m\u001b[0m\n\u001b[0;32m    965\u001b[0m         \u001b[1;32mif\u001b[0m \u001b[0mengine\u001b[0m \u001b[1;33m==\u001b[0m \u001b[1;34m'c'\u001b[0m\u001b[1;33m:\u001b[0m\u001b[1;33m\u001b[0m\u001b[0m\n\u001b[1;32m--> 966\u001b[1;33m             \u001b[0mself\u001b[0m\u001b[1;33m.\u001b[0m\u001b[0m_engine\u001b[0m \u001b[1;33m=\u001b[0m \u001b[0mCParserWrapper\u001b[0m\u001b[1;33m(\u001b[0m\u001b[0mself\u001b[0m\u001b[1;33m.\u001b[0m\u001b[0mf\u001b[0m\u001b[1;33m,\u001b[0m \u001b[1;33m**\u001b[0m\u001b[0mself\u001b[0m\u001b[1;33m.\u001b[0m\u001b[0moptions\u001b[0m\u001b[1;33m)\u001b[0m\u001b[1;33m\u001b[0m\u001b[0m\n\u001b[0m\u001b[0;32m    967\u001b[0m         \u001b[1;32melse\u001b[0m\u001b[1;33m:\u001b[0m\u001b[1;33m\u001b[0m\u001b[0m\n\u001b[0;32m    968\u001b[0m             \u001b[1;32mif\u001b[0m \u001b[0mengine\u001b[0m \u001b[1;33m==\u001b[0m \u001b[1;34m'python'\u001b[0m\u001b[1;33m:\u001b[0m\u001b[1;33m\u001b[0m\u001b[0m\n",
      "\u001b[1;32mC:\\Users\\danis_p50\\Anaconda3\\lib\\site-packages\\pandas\\io\\parsers.py\u001b[0m in \u001b[0;36m__init__\u001b[1;34m(self, src, **kwds)\u001b[0m\n\u001b[0;32m   1580\u001b[0m         \u001b[0mkwds\u001b[0m\u001b[1;33m[\u001b[0m\u001b[1;34m'allow_leading_cols'\u001b[0m\u001b[1;33m]\u001b[0m \u001b[1;33m=\u001b[0m \u001b[0mself\u001b[0m\u001b[1;33m.\u001b[0m\u001b[0mindex_col\u001b[0m \u001b[1;32mis\u001b[0m \u001b[1;32mnot\u001b[0m \u001b[1;32mFalse\u001b[0m\u001b[1;33m\u001b[0m\u001b[0m\n\u001b[0;32m   1581\u001b[0m \u001b[1;33m\u001b[0m\u001b[0m\n\u001b[1;32m-> 1582\u001b[1;33m         \u001b[0mself\u001b[0m\u001b[1;33m.\u001b[0m\u001b[0m_reader\u001b[0m \u001b[1;33m=\u001b[0m \u001b[0mparsers\u001b[0m\u001b[1;33m.\u001b[0m\u001b[0mTextReader\u001b[0m\u001b[1;33m(\u001b[0m\u001b[0msrc\u001b[0m\u001b[1;33m,\u001b[0m \u001b[1;33m**\u001b[0m\u001b[0mkwds\u001b[0m\u001b[1;33m)\u001b[0m\u001b[1;33m\u001b[0m\u001b[0m\n\u001b[0m\u001b[0;32m   1583\u001b[0m \u001b[1;33m\u001b[0m\u001b[0m\n\u001b[0;32m   1584\u001b[0m         \u001b[1;31m# XXX\u001b[0m\u001b[1;33m\u001b[0m\u001b[1;33m\u001b[0m\u001b[0m\n",
      "\u001b[1;32mpandas\\_libs\\parsers.pyx\u001b[0m in \u001b[0;36mpandas._libs.parsers.TextReader.__cinit__ (pandas\\_libs\\parsers.c:4209)\u001b[1;34m()\u001b[0m\n",
      "\u001b[1;32mpandas\\_libs\\parsers.pyx\u001b[0m in \u001b[0;36mpandas._libs.parsers.TextReader._setup_parser_source (pandas\\_libs\\parsers.c:8873)\u001b[1;34m()\u001b[0m\n",
      "\u001b[1;31mFileNotFoundError\u001b[0m: File b'../datasets/alcoholarm.txt' does not exist"
     ]
    }
   ],
   "source": [
    "import linear_regression as lr\n",
    "lr.plot_residuals_vs_fits(cmd = 'homoscedasticity_correct')"
   ]
  },
  {
   "cell_type": "markdown",
   "metadata": {},
   "source": [
    "<br>\n",
    "Be alert for evidence of residuals that grow larger either as a function of the predicted value or as a function of time. The assumption of homoscedasticity is not justified when the spread of the residuals in the residuals-vs-fits plot varies in some complex fashion, two common cases are :\n",
    "\n",
    "<br>\n",
    "<ul style=\"list-style-type:square\">\n",
    "    <li>\n",
    "         a <b>fanning</b> effect, the residuals have a certain variance for small values of the fitted variable but this\n",
    "         variance increases with larger and larger values of the fitted variable (the residuals variance are more spread out for\n",
    "         large fitted values)\n",
    "    </li>\n",
    "    <br>\n",
    "    <li>\n",
    "        a <b>funneling</b> effect, it's the opposite of the fanning effect \n",
    "    </li>\n",
    "</ul>\n"
   ]
  },
  {
   "cell_type": "code",
   "execution_count": null,
   "metadata": {},
   "outputs": [],
   "source": [
    "lr.plot_residuals_vs_fits(cmd = 'homoscedasticity_violation')\n"
   ]
  },
  {
   "cell_type": "markdown",
   "metadata": {},
   "source": [
    "## Correction\n",
    "\n",
    "<br>\n",
    "There are four common corrections for heteroscedasticity : \n",
    "\n",
    "<br>\n",
    "<ul style=\"list-style-type:square\">\n",
    "    <li>\n",
    "         use <b>logarithmized data</b>; non-logarithmized series that are growing exponentially often appear to have increasing\n",
    "         variability, random volatility, or volatility clusters as the series rises over time. The variability in percentage\n",
    "         terms may, however, be rather stable. \n",
    "    </li>\n",
    "    <br>\n",
    "    <li>\n",
    "        use a <b>different specification</b> for the model (different independent variables, or non-linear transformations of\n",
    "        the latter)\n",
    "    </li>\n",
    "    <br>\n",
    "    <li>\n",
    "        apply a <b>weighted least squares</b> estimation method, in which OLS is applied to a transformed version of the\n",
    "        original regression equation\n",
    "    </li>\n",
    "    <br>\n",
    "    <li>\n",
    "        <b>heteroscedasticity-consistent standard errors (HCSE)</b>, while still biased, improve upon OLS estimates. HCSE is a\n",
    "        consistent estimator of standard errors in regression models with heteroscedasticity. This method corrects for\n",
    "        heteroscedasticity (when present) without altering the values of the coefficients, and when data are actually\n",
    "        homoscedastic it returns standard errors equivalent to those estimated by OLS . \n",
    "    </li>\n",
    "</ul>\n"
   ]
  },
  {
   "cell_type": "markdown",
   "metadata": {},
   "source": [
    "## Considerations\n",
    "\n",
    "<br>\n",
    "Weighted least squares estimates of the coefficients will usually be nearly the same as the \"ordinary\" (unweighted) estimates. In cases where they differ substantially, the procedure can be iterated until estimated coefficients stabilize (often in no more than one or two iterations); this is called <b>iteratively reweighted least squares (IRLS)</b>.\n"
   ]
  },
  {
   "cell_type": "markdown",
   "metadata": {},
   "source": [
    "## <font color='#28B463'>References\n",
    "\n",
    "<br>\n",
    "<ul style=\"list-style-type:square\"> \n",
    "    <li>\n",
    "        PennState University -  Stat 501 - \n",
    "        <a href=\"https://bit.ly/2kozxN2\">\n",
    "        Lesson 13 : Weighted Least Squares and Robust Regression</a>        \n",
    "    </li>\n",
    "    <br>\n",
    "    <li>\n",
    "        PennState University -  Stat 501 - \n",
    "        <a href=\"https://bit.ly/2KNOP9x\">\n",
    "        Lesson 4: SLR Model Assumptions</a>\n",
    "    </li>\n",
    "    <br>\n",
    "    <li>\n",
    "        The Minitab Blog - \n",
    "        <a href=\"https://bit.ly/2q8P4Tb\">\n",
    "        Why you need to check your Residual Plots for Regression Analysis : or, to err is human, to err randomly is\n",
    "        statistically divine</a>        \n",
    "    </li>\n",
    "    <br>\n",
    "    <li>\n",
    "        StackExchange - Cross Validated - \n",
    "        <a href=\"https://bit.ly/2kmSoIv\">\n",
    "        What are the consequences of having non-constant variance in the error terms in linear regression?</a>        \n",
    "    </li>\n",
    "    <br>\n",
    "    <li>\n",
    "        Wikipedia - \n",
    "        <a href=\"https://bit.ly/2schP43\">\n",
    "        Heteroscedasticity</a>        \n",
    "    </li>\n",
    "    <br>\n",
    "    <li>\n",
    "        Wikipedia - \n",
    "        <a href=\"https://bit.ly/2klSMH9\">\n",
    "        Homoscedasticity</a>        \n",
    "    </li>    \n",
    "</ul>"
   ]
  }
 ],
 "metadata": {
  "kernelspec": {
   "display_name": "Python 3",
   "language": "python",
   "name": "python3"
  },
  "language_info": {
   "codemirror_mode": {
    "name": "ipython",
    "version": 3
   },
   "file_extension": ".py",
   "mimetype": "text/x-python",
   "name": "python",
   "nbconvert_exporter": "python",
   "pygments_lexer": "ipython3",
   "version": "3.6.1"
  }
 },
 "nbformat": 4,
 "nbformat_minor": 2
}
