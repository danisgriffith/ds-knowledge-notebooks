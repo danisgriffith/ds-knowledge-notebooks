{
 "cells": [
  {
   "cell_type": "markdown",
   "metadata": {},
   "source": [
    "# CLASSIFICATION METRICS\n",
    "\n",
    "<br>"
   ]
  },
  {
   "cell_type": "markdown",
   "metadata": {},
   "source": [
    "## Introduction\n",
    "\n",
    "<br>\n",
    "There are many metrics that can be used to measure the performance of a classifier or predictor; different fields have different preferences for specific metrics due to different goals. For example, in medicine sensitivity and specificity are often used, while in computer science precision and recall are preferred. \n",
    "\n",
    "<br>\n",
    "An important distinction is between metrics that are independent on the prevalence (how often each category occurs in the population), and metrics that do depend on the prevalence; both types are useful, but they have very different properties.\n",
    "\n",
    "<br>\n",
    "Some common error metrics for classification are :\n",
    "\n",
    "<br>\n",
    "<ul style=\"list-style-type:square\">\n",
    "    <li>\n",
    "        precision and recall\n",
    "    </li>\n",
    "    <br>\n",
    "    <li>\n",
    "        accuracy (<b>ACC</b>)\n",
    "    </li>\n",
    "    <br>\n",
    "    <li>\n",
    "        F1 score\n",
    "    </li>\n",
    "    <br>\n",
    "    <li>\n",
    "        area under the curve (<b>AUC</b>)\n",
    "    </li>\n",
    "    <br>\n",
    "    <li>\n",
    "        sensitivity and specificity\n",
    "    </li>\n",
    "</ul>"
   ]
  },
  {
   "cell_type": "code",
   "execution_count": 1,
   "metadata": {
    "collapsed": true
   },
   "outputs": [],
   "source": [
    "# SETUP : importing\n",
    "\n",
    "import numpy as np\n",
    "from matplotlib import pyplot as plt\n",
    "%matplotlib inline\n",
    "import seaborn as sns\n",
    "sns.set(style=\"darkgrid\")\n",
    "import utilcompute as uc\n",
    "from pprint import pprint\n",
    "from sklearn import datasets, svm\n",
    "import sklearn.multiclass as multi \n",
    "\n",
    "import sklearn.metrics as mtr\n",
    "import sklearn.preprocessing as pre\n",
    "import sklearn.ensemble as ens \n",
    "import sklearn.model_selection as ms"
   ]
  },
  {
   "cell_type": "code",
   "execution_count": 2,
   "metadata": {
    "collapsed": true
   },
   "outputs": [],
   "source": [
    "# SETUP : reading in the datasets\n",
    "\n",
    "iris = datasets.load_iris()\n",
    "x = iris.data\n",
    "y = iris.target\n"
   ]
  },
  {
   "cell_type": "code",
   "execution_count": 3,
   "metadata": {
    "collapsed": true
   },
   "outputs": [],
   "source": [
    "# DATA PREPROCESSING : class binarization\n",
    "\n",
    "y = pre.label_binarize(y, classes=[0, 1, 2])\n",
    "n_classes = y.shape[1]\n"
   ]
  },
  {
   "cell_type": "code",
   "execution_count": 4,
   "metadata": {
    "collapsed": true
   },
   "outputs": [],
   "source": [
    "# DATA PREPROCESSING : adding noisy features to make the classification task harder\n",
    "\n",
    "random_state = np.random.RandomState(0)\n",
    "n_samples, n_features = x.shape\n",
    "x = np.c_[x, random_state.randn(n_samples, 200 * n_features)]\n"
   ]
  },
  {
   "cell_type": "code",
   "execution_count": 5,
   "metadata": {},
   "outputs": [
    {
     "name": "stdout",
     "output_type": "stream",
     "text": [
      "train set size   :  120\n",
      "test  set size   :  30\n",
      "\n",
      "seed :  1\n"
     ]
    }
   ],
   "source": [
    "# GLOBAL PARAMETERS \n",
    "\n",
    "train_perc = 0.8\n",
    "delimiter = int(len(x) * train_perc)\n",
    "s = 1\n",
    "\n",
    "print('train set size   : ', delimiter)\n",
    "print('test  set size   : ', (len(x) - delimiter))\n",
    "print()\n",
    "print('seed : ', s)\n"
   ]
  },
  {
   "cell_type": "code",
   "execution_count": 6,
   "metadata": {
    "collapsed": true
   },
   "outputs": [],
   "source": [
    "x_train, x_test, y_train, y_test = ms.train_test_split(x, y, train_size = train_perc, random_state = s)\n",
    "\n",
    "classifier = multi.OneVsRestClassifier(svm.SVC(kernel = 'linear', probability = True, random_state = random_state))\n",
    "y_score = classifier.fit(x_train, y_train).decision_function(x_test)\n"
   ]
  },
  {
   "cell_type": "markdown",
   "metadata": {},
   "source": [
    "## Confusion Matrix\n",
    "\n",
    "<br>\n",
    "In the context of statistical classification, a confusion matrix is a specific table layout that allows visualization of the performance of an algorithm, typically a supervised learning one. It is a special kind of contingency table with two dimensions (actual and predicted), and identical sets of classes in both dimensions (each combination of dimension and class is a variable in the contingency table).\n",
    "\n",
    "<br>\n",
    "The name stems from the fact that it makes it easy to see if the system is confusing two classes (commonly mislabelling one as another).\n",
    "\n",
    "<br>\n",
    "<table style=\"border:none; float:left; margin-top:0;\">\n",
    "    <tbody>\n",
    "        <tr>\n",
    "            <th style=\"background:white; border:none;\" colspan=\"2\" rowspan=\"2\"></th>\n",
    "            <th colspan=\"3\" style=\"background:none;\">Actual Class</th>\n",
    "        </tr>\n",
    "        <tr>\n",
    "            <th>A (Positive)</th>\n",
    "            <th>B (Negative)</th>\n",
    "        </tr>\n",
    "        <tr>\n",
    "            <th rowspan=\"3\" style=\"height:6em;\">\n",
    "                <div style=\"\n",
    "                    display: inline-block; \n",
    "                    -ms-transform: rotate(-90deg); \n",
    "                    -webkit-transform: rotate(-90deg); \n",
    "                    transform: rotate(-90deg);;\"\n",
    "                >\n",
    "                Predicted<br>\n",
    "            Class</div>\n",
    "            </th>\n",
    "            <th>A</th>\n",
    "            <td>True Positives</td>\n",
    "            <td>False Positives</td>\n",
    "        </tr>\n",
    "        <tr>\n",
    "            <th>B</th>\n",
    "            <td>False Negatives</td>\n",
    "            <td>True Negatives</td>\n",
    "        </tr>\n",
    "    </tbody>\n",
    "</table>"
   ]
  },
  {
   "cell_type": "markdown",
   "metadata": {},
   "source": [
    "## Terminology\n",
    "\n",
    "<br>\n",
    "<b>True Positive (TP)</b> : items correctly labeled as belonging to the positive class\n",
    "<br> <br>\n",
    "<b>False Positive (FP)</b> : items incorrectly labeled as belonging to the positive class\n",
    "<br> <br>\n",
    "<b>False Negative (FN)</b> : items incorrectly labeled as belonging to the negative class\n",
    "<br> <br>\n",
    "<b>True Negative (TN)</b> : items correctly labeled as belonging to the negative class\n",
    "\n",
    "<!--\n",
    "<style>\n",
    "td { text-align: center; }\n",
    "</style>\n",
    "\n",
    "<table style=\"width:100%\"  >\n",
    "    <tr>\n",
    "        <td align=\"left\"><b>True Positive (TP)</b></td><td>items correctly labeled as belonging to the positive class</td>\n",
    "    </tr>\n",
    "    <tr>\n",
    "        <td><b>False Positive (FP)</b></td><td>items incorrectly labeled as belonging to the positive class</td>\n",
    "    </tr>\n",
    "    <tr>\n",
    "        <td><b>False Negative (FN)</b></td><td>items incorrectly labeled as belonging to the negative class</td>\n",
    "    </tr>\n",
    "    <tr>\n",
    "        <td><b>True Negative (TN)</b></td><td>items correctly labeled as belonging to the negative class</td>\n",
    "    </tr>\n",
    "</table>\n",
    "-->\n"
   ]
  },
  {
   "cell_type": "markdown",
   "metadata": {},
   "source": [
    "## Precision and Recall\n",
    "\n",
    "<br>\n",
    "In a classification task, the <b>precision</b> (for a class) is the number of true positives divided by the total number of elements labeled as belonging to the positive class :\n",
    "\n",
    "<br>\n",
    "$\n",
    "    \\quad\n",
    "    precision = \\dfrac { TP } { TP + FP}\n",
    "$\n",
    "\n",
    "<br>\n",
    "Similarly, <b>recall</b> is defined as the number of true positives divided by the total number of elements that actually belong to the positive class :\n",
    "\n",
    "<br>\n",
    "$\n",
    "    \\quad\n",
    "    recall = \\dfrac { TP } { TP + FN }\n",
    "$\n",
    "\n",
    "<br>\n",
    "A precision score of 1.0 for a class C means that every item labeled as belonging to class C does indeed belong to the class (but says nothing about the number of items from class C that were not labeled correctly) whereas a recall score of 1.0 means that every item from class C was labeled as belonging to the class (but says nothing about how many other items were incorrectly also labeled as belonging to class C).\n",
    "\n",
    "<br>\n",
    "Usually, <b>precision and recall scores are not discussed in isolation</b>; instead, either values for one measure are compared for a fixed level at the other measure (e.g. precision at a recall level of 0.75) or both are combined into a single measure."
   ]
  },
  {
   "cell_type": "markdown",
   "metadata": {},
   "source": [
    "## Accuracy\n",
    "\n",
    "<br>\n",
    "The simplest statistic is <b>accuracy (ACC)</b>, which <b>represents the proportion of correct classifications to the total number of observations</b> :\n",
    "\n",
    "<br>\n",
    "$\n",
    "    \\quad\n",
    "    \\begin{align}\n",
    "        ACC \\ &= \\ \\frac{ (TP + TN) }{ \\text{Total Population} } \\ = \\ \\frac{(TP + TN)}{(TP + TN + FP + FN)}\n",
    "    \\end{align}\n",
    "$\n",
    "\n",
    "<br>\n",
    "Accuracy is often not very useful, compared to the marginal ratios, as it does not yield useful marginal interpretations, due to mixing true positives and true negatives. It is <b>prevalence-dependent</b>."
   ]
  },
  {
   "cell_type": "markdown",
   "metadata": {},
   "source": [
    "## F1 Score\n",
    "\n",
    "<br>\n",
    "Another measure that combines precision and recall is the F1 score (also known as the traditional F-measure, or balanced F-score), which is a measure of a test accuracy and ranges from 0 to 1 :\n",
    "\n",
    "<br>\n",
    "$\n",
    "    \\quad\n",
    "    \\boldsymbol{F_1} \\ = \\ 2 \\ \\dfrac {1} { \\tfrac{1}{\\mathrm{recall}} + \\tfrac{1}{\\mathrm{precision}} } \n",
    "    \\ = \\ 2 \\ \\dfrac { \\mathrm {precision} \\cdot \\mathrm {recall} }{\\mathrm{precision} +\\mathrm {recall} }\n",
    "$\n",
    "\n",
    "<br>\n",
    "The F1 score is a special case of the general $F_\\beta$ measure; when precision and recall are evenly weighted, the formula below yields the harmonic mean of the two : \n",
    "\n",
    "<br>\n",
    "$\n",
    "    \\quad\n",
    "    \\boldsymbol{F_\\beta} \\ = \\\n",
    "        (1 + \\beta^2) \\ \n",
    "        \\dfrac\n",
    "            {\\mathrm{precision} \\cdot \\mathrm{recall}}\n",
    "            {(\\beta^2 \\cdot \\mathrm{precision}) + \\mathrm{recall}}\n",
    "$\n",
    "\n",
    "<br>\n",
    "The F-measure was derived so that $F_\\beta$ measures the effectiveness of retrieval with respect to a user who attaches $\\beta$ times as much importance to recall as to precision.\n",
    "\n",
    "<br>\n",
    "Outside of the field of information retrieval, the application of <b>precision, recall, and F-measure</b> are argued to be flawed as they <b>do not take true negatives into account</b>. Measures such as the Phi coefficient, Matthews correlation coefficient, Informedness or Cohen's kappa may be preferable to assess the performance of a binary classifier.\n"
   ]
  },
  {
   "cell_type": "markdown",
   "metadata": {},
   "source": [
    "## Sensitivity and Specificity\n",
    "\n",
    "<br>\n",
    "Sensitivity and specificity are statistical measures of the performance of a binary classification task : \n",
    "\n",
    "<br>\n",
    "<ul style=\"list-style-type:square\">\n",
    "    <li>\n",
    "        <b>sensitivity</b> (also called true positive rate, or recall) <b>measures the proportion of positives that are\n",
    "        correctly identified as such</b> or, equivalently, the ability of the classifier to avoid false negatives\n",
    "    </li>\n",
    "    <br>\n",
    "    <li>\n",
    "        <b>specificity</b> (also called true negative rate) <b>measures the proportion of negatives that are correctly\n",
    "        identified as such</b> or, equivalently, the ability of the classifier to avoid false positives\n",
    "    </li>\n",
    "</ul>\n",
    "\n",
    "<br>\n",
    "$\n",
    "    \\quad\n",
    "    \\begin{align}\n",
    "        sensitivity \\ & = \\ \\dfrac { TP } { TP + FN }\n",
    "        \\newline\n",
    "        specificity \\ & = \\ \\dfrac { TN } { TN + FP }\n",
    "    \\end{align}\n",
    "$\n",
    "\n",
    "<br>\n",
    "In the context of medical tests, sensitivity represents the percentage of sick people who are correctly identified as having the condition, whereas specificity is the percentage of healthy people who are correctly identified as not having the condition. A perfect predictor would be described as 100% sensitive (all sick individuals are correctly identified as sick), and 100% specific (no healthy individuals are incorrectly identified as sick).\n",
    "\n",
    "<br>\n",
    "For any test, <b>there is usually a trade-off between these two statitical measures, which can be represented graphically using a receiver operating characteristic (ROC) curve</b>.\n",
    "\n"
   ]
  },
  {
   "cell_type": "markdown",
   "metadata": {},
   "source": [
    "## ROC Curve\n",
    "\n",
    "<br>\n",
    "The value returned by the classification model can be a real value (continuous output), in which case the classifier boundary between classes must be determined by a threshold value, or it can be a discrete class label indicating one of the classes.\n",
    "\n",
    "<br>\n",
    "<b>A receiver operating characteristic (ROC) curve is a graphical plot that illustrates the ability of a binary classifier system as its discrimination threshold is varied.</b> It provides the tools for selecting possibly optimal models and to discard suboptimal ones independently from the cost context or the class distribution.\n",
    "\n",
    "<br>\n",
    "<b>The ROC curve is created by plotting the true positive rate</b> (TPR, also called sensitivity or recall) <b>against the false positive rate</b> (FPR, also known as fall-out or probability of false alarm) <b>at various threshold settings</b>.The FPR can be calculated as (1 − specificity). The ROC curve is thus the sensitivity as a function of fall-out. \n",
    "\n",
    "<br>\n",
    "Each prediction result or instance of a confusion matrix is represented by one point in the ROC space, defined as the cartesian coordinate system with the FPR on the x-axis and the TPR on the y-axis."
   ]
  },
  {
   "cell_type": "code",
   "execution_count": 7,
   "metadata": {
    "collapsed": true
   },
   "outputs": [],
   "source": [
    "result = []\n",
    "for i in range(n_classes):\n",
    "    fpr, tpr, threshold = mtr.roc_curve(y_test[:, i], y_score[:, i])    \n",
    "    auc = mtr.auc(fpr, tpr)\n",
    "    result.append( {'class' : i, 'fpr' : fpr, 'tpr' : tpr, 'auc' : auc} )\n"
   ]
  },
  {
   "cell_type": "code",
   "execution_count": 8,
   "metadata": {},
   "outputs": [
    {
     "data": {
      "image/png": "[encoded data removed]",
      "text/plain": [
       "<matplotlib.figure.Figure at 0x212553547f0>"
      ]
     },
     "metadata": {},
     "output_type": "display_data"
    }
   ],
   "source": [
    "fig, axs = plt.subplots(nrows = 1, ncols = n_classes, figsize=(20, 5)) \n",
    "\n",
    "for i in range(n_classes):\n",
    "    class_result = result[i]\n",
    "    \n",
    "    ax = axs[i]\n",
    "    ax.set_xlim(-0.03, 1.03)\n",
    "    ax.set_ylim(-0.03, 1.03)\n",
    "    \n",
    "    if (i == 0):\n",
    "            ax.set_ylabel('True Positive Rate')\n",
    "    ax.set_xlabel('False Positive Rate')    \n",
    "    title = ('ROC Curve : class {0}'.format(i))\n",
    "    ax.set_title(title)\n",
    "    \n",
    "    label = 'ROC curve (area = %0.2f)' % result[i]['auc']\n",
    "    \n",
    "    ax.plot([0, 1], [0, 1], color='navy', lw = 2, linestyle = '--')\n",
    "    ax.plot(class_result['fpr'], class_result['tpr'], color = 'darkorange', lw = 2, label = label)    \n",
    "\n",
    "    ax.legend(loc='lower right')\n",
    "\n",
    "plt.tight_layout()\n",
    "plt.show()\n"
   ]
  },
  {
   "cell_type": "markdown",
   "metadata": {},
   "source": [
    "<br>\n",
    "<b>The best possible prediction method would yield a point in the upper left corner or coordinate (0,1) of the ROC space, representing, respectively, 100% specificity (no false positives) and 100% sensitivity (no false negatives)</b>. The point (0,1) is also called a perfect classification. \n",
    "\n",
    "<br>\n",
    "<b>A random guess would give a point along a diagonal line</b> (also known as the line of no-discrimination) from the left bottom to the top right corners (regardless of the positive and negative base rates). Points above the diagonal represent good classification results (better than random), whereas points below the line represent poor results (worse than random). Note that the output of a consistently poor predictor could simply be inverted to obtain a good predictor.\n",
    "\n",
    "<br>\n",
    "<b>Although any attempt to summarize the ROC Curve into a single number leads to a loss of information about the pattern of tradeoffs of the particular discriminator algorithm, summary statistics (e.g. AUC) do exists</b>.\n",
    "\n",
    "<br>\n",
    "<b>The extension of ROC curves for classification problems with more than two classes has always been cumbersome, as the degrees of freedom increase quadratically with the number of classes</b>, and the ROC space has $c(c-1)$ dimensions, where $c$ is the number of classes. Some approaches have been made for the particular case with three classes (three-way ROC) but, due to complexity in approximating the volume under the ROC surface (VUS), other approaches based on an extension of AUC are more popular as an evaluation metric.\n"
   ]
  },
  {
   "cell_type": "markdown",
   "metadata": {},
   "source": [
    "## Area Under the Curve\n",
    "\n",
    "<br>\n",
    "When using normalized units, <b>the area under the curve</b> (AUC, or ROC-AUC) <b>corresponds to the probability that a classifier will rank a randomly chosen positive instance higher than a randomly chosen negative one </b>(assuming positive ranks higher than negative).\n",
    "\n",
    "The area under the curve is given by (the integral boundaries are reversed as large T has a lower value on the x-axis) :\n",
    "\n",
    "<br>\n",
    "$\n",
    "    \\quad\n",
    "    AUC \\ = \\ \\int _{\\infty }^{-\\infty } {\\mbox{TPR}}(T) \\big[ -{\\mbox{FPR}}'(T) \\big] dT\n",
    "    \\ = \\ \\int _{-\\infty }^{\\infty } \\int _{-\\infty }^{\\infty } I(T'>T) \\ f_{1}(T') \\ f_{0}(T) \\ dT' \\ dT\n",
    "    \\ = \\ P(X_{1}>X_{0})\n",
    "$\n",
    "\n",
    "\n",
    "\n"
   ]
  },
  {
   "cell_type": "markdown",
   "metadata": {},
   "source": [
    "## References\n",
    "\n",
    "<br>\n",
    "<ul style=\"list-style-type:square\">\n",
    "    <li>\n",
    "        Wikipedia - Evaluation of Binary Classifiers <br>\n",
    "        https://en.wikipedia.org/wiki/Evaluation_of_binary_classifiers\n",
    "    </li>\n",
    "    <br>\n",
    "    <li>\n",
    "        Wikipedia - Confusion Matrix <br>\n",
    "        https://en.wikipedia.org/wiki/Confusion_matrix\n",
    "    </li>\n",
    "    <br>\n",
    "    <li>\n",
    "        Wikipedia - Precision and Recall <br>\n",
    "        https://en.wikipedia.org/wiki/Precision_and_recall\n",
    "    </li>\n",
    "    <br>\n",
    "    <li>\n",
    "        Wikipedia - F1 Score <br>\n",
    "        https://en.wikipedia.org/wiki/F1_score\n",
    "    </li>\n",
    "    <br>\n",
    "    <li>\n",
    "        Wikipedia - Sensitivity and Specificity <br>\n",
    "        https://en.wikipedia.org/wiki/Sensitivity_and_specificity\n",
    "    </li>\n",
    "    <br>\n",
    "    <li>\n",
    "        Wikipedia - Receiver Operating Characteristic <br>\n",
    "        https://en.wikipedia.org/wiki/Receiver_operating_characteristic\n",
    "    </li>\n",
    "</ul>"
   ]
  }
 ],
 "metadata": {
  "kernelspec": {
   "display_name": "Python 3",
   "language": "python",
   "name": "python3"
  },
  "language_info": {
   "codemirror_mode": {
    "name": "ipython",
    "version": 3
   },
   "file_extension": ".py",
   "mimetype": "text/x-python",
   "name": "python",
   "nbconvert_exporter": "python",
   "pygments_lexer": "ipython3",
   "version": "3.6.1"
  }
 },
 "nbformat": 4,
 "nbformat_minor": 2
}
