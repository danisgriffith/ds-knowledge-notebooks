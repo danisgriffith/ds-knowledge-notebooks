{
 "cells": [
  {
   "cell_type": "markdown",
   "metadata": {},
   "source": [
    "# <font color='#28B463'>CLASSIFICATION METRICS\n",
    "\n",
    "<br>"
   ]
  },
  {
   "cell_type": "markdown",
   "metadata": {},
   "source": [
    "## <font color='#28B463'>Introduction\n",
    "\n",
    "<br>\n",
    "An error metric is a type of metric used to measure the error of a forecasting model; they provide a way to quantitatively compare the performance of competing models. Some common error metrics for classification are :\n",
    "\n",
    "<br>\n",
    "<ul style=\"list-style-type:square\">\n",
    "    <li>\n",
    "        accuracy\n",
    "    </li>\n",
    "    <br>\n",
    "    <li>\n",
    "        precision\n",
    "    </li>\n",
    "    <br>\n",
    "    <li>\n",
    "        recall\n",
    "    </li>\n",
    "    <br>\n",
    "    <li>\n",
    "        area under the curve (<b>AUC</b>)\n",
    "    </li>\n",
    "</ul>"
   ]
  },
  {
   "cell_type": "code",
   "execution_count": 30,
   "metadata": {
    "collapsed": true
   },
   "outputs": [],
   "source": [
    "# SETUP : importing\n",
    "\n",
    "import numpy as np\n",
    "import pandas as pd\n",
    "from sklearn.datasets import load_iris\n",
    "from matplotlib import pyplot as plt\n",
    "%matplotlib inline\n",
    "import seaborn as sns\n",
    "sns.set(style=\"darkgrid\")\n",
    "import sklearn.linear_model as lm\n",
    "import utilcompute as uc\n",
    "from pprint import pprint\n"
   ]
  },
  {
   "cell_type": "code",
   "execution_count": 31,
   "metadata": {},
   "outputs": [
    {
     "name": "stdout",
     "output_type": "stream",
     "text": [
      "df.shape[0] :  150\n"
     ]
    }
   ],
   "source": [
    "# SETUP : reading in the datasets\n",
    "\n",
    "#print(load_iris().DESCR)\n",
    "data = np.column_stack( (load_iris().data, load_iris().target) )\n",
    "df = pd.DataFrame(data)\n",
    "df.columns = ['sepal length', 'sepal width', 'petal length','petal width', 'species']\n",
    "#print('df.shape[0] : ', df.shape[0])"
   ]
  },
  {
   "cell_type": "code",
   "execution_count": 32,
   "metadata": {},
   "outputs": [
    {
     "data": {
      "text/html": [
       "<div>\n",
       "<style>\n",
       "    .dataframe thead tr:only-child th {\n",
       "        text-align: right;\n",
       "    }\n",
       "\n",
       "    .dataframe thead th {\n",
       "        text-align: left;\n",
       "    }\n",
       "\n",
       "    .dataframe tbody tr th {\n",
       "        vertical-align: top;\n",
       "    }\n",
       "</style>\n",
       "<table border=\"1\" class=\"dataframe\">\n",
       "  <thead>\n",
       "    <tr style=\"text-align: right;\">\n",
       "      <th></th>\n",
       "      <th>sepal length</th>\n",
       "      <th>sepal width</th>\n",
       "      <th>petal length</th>\n",
       "      <th>petal width</th>\n",
       "      <th>species</th>\n",
       "    </tr>\n",
       "  </thead>\n",
       "  <tbody>\n",
       "    <tr>\n",
       "      <th>count</th>\n",
       "      <td>150.000000</td>\n",
       "      <td>150.000000</td>\n",
       "      <td>150.000000</td>\n",
       "      <td>150.000000</td>\n",
       "      <td>150.000000</td>\n",
       "    </tr>\n",
       "    <tr>\n",
       "      <th>mean</th>\n",
       "      <td>5.843333</td>\n",
       "      <td>3.054000</td>\n",
       "      <td>3.758667</td>\n",
       "      <td>1.198667</td>\n",
       "      <td>1.000000</td>\n",
       "    </tr>\n",
       "    <tr>\n",
       "      <th>std</th>\n",
       "      <td>0.828066</td>\n",
       "      <td>0.433594</td>\n",
       "      <td>1.764420</td>\n",
       "      <td>0.763161</td>\n",
       "      <td>0.819232</td>\n",
       "    </tr>\n",
       "    <tr>\n",
       "      <th>min</th>\n",
       "      <td>4.300000</td>\n",
       "      <td>2.000000</td>\n",
       "      <td>1.000000</td>\n",
       "      <td>0.100000</td>\n",
       "      <td>0.000000</td>\n",
       "    </tr>\n",
       "    <tr>\n",
       "      <th>25%</th>\n",
       "      <td>5.100000</td>\n",
       "      <td>2.800000</td>\n",
       "      <td>1.600000</td>\n",
       "      <td>0.300000</td>\n",
       "      <td>0.000000</td>\n",
       "    </tr>\n",
       "    <tr>\n",
       "      <th>50%</th>\n",
       "      <td>5.800000</td>\n",
       "      <td>3.000000</td>\n",
       "      <td>4.350000</td>\n",
       "      <td>1.300000</td>\n",
       "      <td>1.000000</td>\n",
       "    </tr>\n",
       "    <tr>\n",
       "      <th>75%</th>\n",
       "      <td>6.400000</td>\n",
       "      <td>3.300000</td>\n",
       "      <td>5.100000</td>\n",
       "      <td>1.800000</td>\n",
       "      <td>2.000000</td>\n",
       "    </tr>\n",
       "    <tr>\n",
       "      <th>max</th>\n",
       "      <td>7.900000</td>\n",
       "      <td>4.400000</td>\n",
       "      <td>6.900000</td>\n",
       "      <td>2.500000</td>\n",
       "      <td>2.000000</td>\n",
       "    </tr>\n",
       "  </tbody>\n",
       "</table>\n",
       "</div>"
      ],
      "text/plain": [
       "       sepal length  sepal width  petal length  petal width     species\n",
       "count    150.000000   150.000000    150.000000   150.000000  150.000000\n",
       "mean       5.843333     3.054000      3.758667     1.198667    1.000000\n",
       "std        0.828066     0.433594      1.764420     0.763161    0.819232\n",
       "min        4.300000     2.000000      1.000000     0.100000    0.000000\n",
       "25%        5.100000     2.800000      1.600000     0.300000    0.000000\n",
       "50%        5.800000     3.000000      4.350000     1.300000    1.000000\n",
       "75%        6.400000     3.300000      5.100000     1.800000    2.000000\n",
       "max        7.900000     4.400000      6.900000     2.500000    2.000000"
      ]
     },
     "execution_count": 32,
     "metadata": {},
     "output_type": "execute_result"
    }
   ],
   "source": [
    "#df.describe()"
   ]
  },
  {
   "cell_type": "code",
   "execution_count": 33,
   "metadata": {
    "collapsed": true
   },
   "outputs": [],
   "source": [
    "target = 'species'\n",
    "if (isinstance(target, list)):\n",
    "    features = [c for c in df.columns.values.tolist() if (c not in target)]\n",
    "else:\n",
    "    features = [c for c in df.columns.values.tolist() if (c != target)]\n",
    "#print('features : ', features)\n",
    "#print('target   : ', target)"
   ]
  },
  {
   "cell_type": "code",
   "execution_count": 34,
   "metadata": {},
   "outputs": [
    {
     "name": "stdout",
     "output_type": "stream",
     "text": [
      "df : \n",
      "\n",
      "{'petal length': 173.96896536339727,\n",
      " 'petal width': 55.48868864572551,\n",
      " 'sepal length': 264.7457109493044,\n",
      " 'sepal width': 97.111605833803296}\n",
      "\n",
      "df_std : \n",
      "\n",
      "{'petal length': 31.397291650719751,\n",
      " 'petal width': 16.141563956997683,\n",
      " 'sepal length': 7.1031134428332869,\n",
      " 'sepal width': 2.0990386257420881}\n"
     ]
    }
   ],
   "source": [
    "# DATA PREPROCESSING : features standardization\n",
    "\n",
    "vif_dict = uc.compute_vif(df = df, features = features)\n",
    "print('df : ')\n",
    "print()\n",
    "pprint(vif_dict)\n",
    "\n",
    "print()\n",
    "\n",
    "df_std = uc.standardize(df = df, included = features, excluded = target)\n",
    "\n",
    "vif_dict = uc.compute_vif(df = df_std, features = features)\n",
    "print('df_std : ')\n",
    "print()\n",
    "pprint(vif_dict)\n",
    "\n",
    "df = df_std\n"
   ]
  },
  {
   "cell_type": "code",
   "execution_count": 35,
   "metadata": {},
   "outputs": [
    {
     "name": "stdout",
     "output_type": "stream",
     "text": [
      "train set size   :  120\n",
      "test  set size   :  30\n",
      "\n",
      "seed :  1\n"
     ]
    }
   ],
   "source": [
    "# GLOBAL PARAMETERS \n",
    "\n",
    "train_perc = 0.8\n",
    "delimiter = int(len(df) * train_perc)\n",
    "s = 1\n",
    "\n",
    "print('train set size   : ', delimiter)\n",
    "print('test  set size   : ', (len(df) - delimiter))\n",
    "print()\n",
    "print('seed : ', s)\n"
   ]
  },
  {
   "cell_type": "code",
   "execution_count": 36,
   "metadata": {
    "collapsed": true
   },
   "outputs": [],
   "source": [
    "np.random.seed(s)\n",
    "df_shuffled = df.reindex(np.random.permutation(df.index))    \n",
    "    \n",
    "train = df_shuffled[:delimiter]\n",
    "test = df_shuffled[delimiter:]\n",
    "\n",
    "model = lm.LogisticRegression()\n",
    "model.fit(train[features], train[target])\n",
    "\n",
    "y_pred = model.predict(test[features])\n",
    "metrics = uc.compute_classification_metrics(y = test[target], y_pred = y_pred)\n"
   ]
  },
  {
   "cell_type": "code",
   "execution_count": 37,
   "metadata": {},
   "outputs": [
    {
     "name": "stdout",
     "output_type": "stream",
     "text": [
      "metrics\n",
      "\n",
      "{'ACC': 0.8666666666666667}\n"
     ]
    }
   ],
   "source": [
    "print('metrics')\n",
    "print()\n",
    "pprint(metrics)\n"
   ]
  },
  {
   "cell_type": "code",
   "execution_count": 38,
   "metadata": {
    "collapsed": true
   },
   "outputs": [],
   "source": [
    "# the choice of the feature to use in the 2d plots\n",
    "feature = 'petal width'"
   ]
  },
  {
   "cell_type": "code",
   "execution_count": 39,
   "metadata": {},
   "outputs": [
    {
     "data": {
      "image/png": "[encoded data removed]",
      "text/plain": [
       "<matplotlib.figure.Figure at 0x1c5c9c5eef0>"
      ]
     },
     "metadata": {},
     "output_type": "display_data"
    }
   ],
   "source": [
    "# CLASSIFICATION PLOT\n",
    "\n",
    "fig, ax = plt.subplots(nrows = 1, ncols = 1, figsize=(20, 6))\n",
    "\n",
    "ax.scatter(test[feature], test[target],  color='black', label = 'y')\n",
    "ax.scatter(test[feature], y_pred, color='blue', label = 'y_hat')\n",
    "ax.legend(loc = 'upper left')\n",
    "\n",
    "plt.show()"
   ]
  },
  {
   "cell_type": "code",
   "execution_count": 43,
   "metadata": {},
   "outputs": [
    {
     "data": {
      "image/png": "[encoded data removed]",
      "text/plain": [
       "<matplotlib.figure.Figure at 0x1c5cab6a278>"
      ]
     },
     "metadata": {},
     "output_type": "display_data"
    },
    {
     "name": "stdout",
     "output_type": "stream",
     "text": [
      "ACC :  0.866666666667\n"
     ]
    }
   ],
   "source": [
    "# MSE\n",
    "\n",
    "# description:\n",
    "\n",
    "# mse (mean squaed error) measures the average of the squares of the errors, \n",
    "# being the error the difference between the target value and the prediction value\n",
    "\n",
    "\n",
    "# ----------------------------------------------------------------------------------------------------------------------------- #\n",
    "\n",
    "\n",
    "fig, ax = plt.subplots(nrows = 1, ncols = 1, figsize=(20, 6))\n",
    "\n",
    "ax.scatter(test[feature], test[target],  color='black', label = 'y')\n",
    "ax.scatter(test[feature], y_pred, color='blue', label = 'y_hat')\n",
    "ax.legend(loc = 'upper left')\n",
    "\n",
    "for pos in range(len(test[target])):\n",
    "    x = test[feature].iloc[pos]\n",
    "    y_min = min(test[target].iloc[pos], y_pred[pos])\n",
    "    y_max = max(test[target].iloc[pos], y_pred[pos])\n",
    "    ax.plot((x,x), (y_min,y_max), linestyle = 'solid', color = 'yellow', alpha = 0.5, linewidth = 3)\n",
    "        \n",
    "plt.show()\n",
    "\n",
    "print('ACC : ', metrics['ACC'])\n"
   ]
  }
 ],
 "metadata": {
  "kernelspec": {
   "display_name": "Python 3",
   "language": "python",
   "name": "python3"
  },
  "language_info": {
   "codemirror_mode": {
    "name": "ipython",
    "version": 3
   },
   "file_extension": ".py",
   "mimetype": "text/x-python",
   "name": "python",
   "nbconvert_exporter": "python",
   "pygments_lexer": "ipython3",
   "version": "3.6.1"
  }
 },
 "nbformat": 4,
 "nbformat_minor": 2
}
