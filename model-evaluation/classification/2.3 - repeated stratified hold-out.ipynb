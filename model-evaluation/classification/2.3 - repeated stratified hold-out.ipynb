{
 "cells": [
  {
   "cell_type": "markdown",
   "metadata": {},
   "source": [
    "# REPEATED STRATIFIED HOLD-OUT\n",
    "\n",
    "<br>"
   ]
  },
  {
   "cell_type": "markdown",
   "metadata": {},
   "source": [
    "## Introduction\n",
    "\n",
    "<br>\n",
    "This evaluation method consists in repeating stratified hold-out validation $n$ times, in each iteration a certain proportion of stratified data is selected for training and for testing.\n"
   ]
  },
  {
   "cell_type": "code",
   "execution_count": 1,
   "metadata": {},
   "outputs": [
    {
     "name": "stderr",
     "output_type": "stream",
     "text": [
      "C:\\Users\\danis_p50\\Anaconda3\\lib\\site-packages\\statsmodels\\compat\\pandas.py:56: FutureWarning: The pandas.core.datetools module is deprecated and will be removed in a future version. Please use the pandas.tseries module instead.\n",
      "  from pandas.core import datetools\n"
     ]
    }
   ],
   "source": [
    "# SETUP : importing\n",
    "\n",
    "import numpy as np\n",
    "import pandas as pd\n",
    "from sklearn.datasets import load_iris\n",
    "\n",
    "from matplotlib import pyplot as plt\n",
    "%matplotlib inline\n",
    "import seaborn as sns\n",
    "sns.set(style=\"darkgrid\")\n",
    "\n",
    "from sklearn.model_selection import train_test_split\n",
    "#import sklearn.linear_model as lm\n",
    "import sklearn.neighbors as nbr\n",
    "import sklearn.metrics as mtr\n",
    "\n",
    "import preprocessing as pre\n",
    "import utilcompute as uc\n",
    "from pprint import pprint\n"
   ]
  },
  {
   "cell_type": "code",
   "execution_count": 2,
   "metadata": {
    "collapsed": true
   },
   "outputs": [],
   "source": [
    "# SETUP : reading in the datasets\n",
    "\n",
    "data = np.column_stack( (load_iris().data, load_iris().target) )\n",
    "df = pd.DataFrame(data)\n",
    "df.columns = ['sepal length', 'sepal width', 'petal length', 'petal width', 'species']\n",
    "\n",
    "#print('df.shape[0] : ', df.shape[0])\n"
   ]
  },
  {
   "cell_type": "code",
   "execution_count": 3,
   "metadata": {
    "collapsed": true
   },
   "outputs": [],
   "source": [
    "#df.describe()"
   ]
  },
  {
   "cell_type": "code",
   "execution_count": 4,
   "metadata": {
    "collapsed": true
   },
   "outputs": [],
   "source": [
    "# DATA PREPROCESSING : deleting features\n",
    "\n",
    "to_delete = []\n",
    "cols = [c for c in df.columns.values.tolist() if (c not in to_delete)]\n",
    "df = df[cols]\n",
    "\n",
    "#print('columns : ', df.columns.values.tolist())"
   ]
  },
  {
   "cell_type": "code",
   "execution_count": 5,
   "metadata": {
    "collapsed": true
   },
   "outputs": [],
   "source": [
    "target = 'species'\n",
    "if (isinstance(target, list)):\n",
    "    features = [c for c in df.columns.values.tolist() if (c not in target)]\n",
    "else:\n",
    "    features = [c for c in df.columns.values.tolist() if (c != target)]\n",
    "\n",
    "#print('features : ', features)\n",
    "#print('target   : ', target)"
   ]
  },
  {
   "cell_type": "code",
   "execution_count": 6,
   "metadata": {},
   "outputs": [
    {
     "name": "stdout",
     "output_type": "stream",
     "text": [
      "df : \n",
      "\n",
      "{'petal length': 173.96896536339727,\n",
      " 'petal width': 55.48868864572551,\n",
      " 'sepal length': 264.7457109493044,\n",
      " 'sepal width': 97.111605833803296}\n",
      "\n",
      "df_std : \n",
      "\n",
      "{'petal length': 31.397291650719751,\n",
      " 'petal width': 16.141563956997683,\n",
      " 'sepal length': 7.1031134428332869,\n",
      " 'sepal width': 2.0990386257420881}\n"
     ]
    }
   ],
   "source": [
    "# DATA PREPROCESSING : features standardization\n",
    "\n",
    "vif_dict = uc.compute_vif(df = df, features = features)\n",
    "print('df : ')\n",
    "print()\n",
    "pprint(vif_dict)\n",
    "\n",
    "print()\n",
    "\n",
    "df_std = pre.standardize(df = df, included = features, excluded = target)\n",
    "\n",
    "vif_dict = uc.compute_vif(df = df_std, features = features)\n",
    "print('df_std : ')\n",
    "print()\n",
    "pprint(vif_dict)\n"
   ]
  },
  {
   "cell_type": "code",
   "execution_count": 7,
   "metadata": {
    "collapsed": true
   },
   "outputs": [],
   "source": [
    "# DATA PREPROCESSING : vif subset selection [reduces multicollinearity]\n",
    "\n",
    "VIF = False\n",
    "\n",
    "if (VIF):\n",
    "    selected_features = uc.vif_best_subset_selection(\n",
    "        vif_threshold = 5, \n",
    "        df = df_std, \n",
    "        features = features, \n",
    "        level = len(features), \n",
    "        debug = False\n",
    "    )\n",
    "    t = uc.concatenate(features, target)\n",
    "    df_std = df_std[t]\n",
    "    \n",
    "    vif_dict = uc.compute_vif(df = df_std, features = selected_features)\n",
    "    pprint(vif_dict)\n",
    "else:\n",
    "    selected_features = features\n"
   ]
  },
  {
   "cell_type": "code",
   "execution_count": 8,
   "metadata": {},
   "outputs": [
    {
     "name": "stdout",
     "output_type": "stream",
     "text": [
      "['petal length' 'petal width' 'sepal length' 'sepal width' 'species']\n"
     ]
    }
   ],
   "source": [
    "# DATA PREPROCESSING : final setup\n",
    "\n",
    "df = df_std\n",
    "features = selected_features\n",
    "\n",
    "print(df_std.columns.values)"
   ]
  },
  {
   "cell_type": "code",
   "execution_count": 9,
   "metadata": {},
   "outputs": [
    {
     "name": "stdout",
     "output_type": "stream",
     "text": [
      "train set size   :  120\n",
      "test  set size   :  30\n",
      "\n",
      "seeds : [1 2 3] ... [48 49 50]\n"
     ]
    }
   ],
   "source": [
    "# GLOBAL PARAMETERS \n",
    "\n",
    "train_perc = 0.8\n",
    "delimiter = int(len(df) * train_perc)\n",
    "seeds = np.arange(1, 50 + 1)\n",
    "\n",
    "print('train set size   : ', delimiter)\n",
    "print('test  set size   : ', (len(df) - delimiter))\n",
    "print()\n",
    "print('seeds : {0} ... {1}'.format(seeds[:3], seeds[-3:]))\n"
   ]
  },
  {
   "cell_type": "code",
   "execution_count": 10,
   "metadata": {
    "collapsed": true
   },
   "outputs": [],
   "source": [
    "# [TEST]\n",
    "\n",
    "SHOW_EXAMPLE = False\n",
    "\n",
    "if (SHOW_EXAMPLE):\n",
    "    for random_state in range(1, 10+1):\n",
    "        X_train, X_test, y_train, y_test = train_test_split(\n",
    "            df[features], df[target], \n",
    "            train_size = train_perc, \n",
    "            random_state = random_state, \n",
    "            stratify = df[target]\n",
    "        )\n",
    "\n",
    "        print('random state : ', random_state)\n",
    "        print()\n",
    "        print('X_train : {0} ... {1}'.format(X_train.index.values[:8], X_train.index.values[-8:]))\n",
    "        print('y_train : {0} ... {1}'.format(y_train.index.values[:8], y_train.index.values[-8:]))\n",
    "        print(y_train.value_counts(normalize = True, sort = True))\n",
    "\n",
    "        print()\n",
    "        print('X_test : {0} ... {1}'.format(X_test.index.values[:8], X_test.index.values[-8:]))\n",
    "        print('y_test : {0} ... {1}'.format(y_test.index.values[:8], y_test.index.values[-8:]))\n",
    "        print(y_test.value_counts(normalize = True, sort = True))\n",
    "        print()\n",
    "        print()\n",
    "\n",
    "        fig, axs = plt.subplots(nrows = 1, ncols = 2 , figsize=(20, 4))  \n",
    "        sns.countplot(y = y_train.values, ax = axs[0])\n",
    "        sns.countplot(y = y_test.values, ax = axs[1])\n",
    "        plt.show()"
   ]
  },
  {
   "cell_type": "code",
   "execution_count": 11,
   "metadata": {},
   "outputs": [
    {
     "name": "stderr",
     "output_type": "stream",
     "text": [
      "C:\\Users\\danis_p50\\Anaconda3\\lib\\site-packages\\sklearn\\model_selection\\_split.py:2010: FutureWarning: From version 0.21, test_size will always complement train_size unless both are specified.\n",
      "  FutureWarning)\n"
     ]
    }
   ],
   "source": [
    "scores_train = []\n",
    "scores_test = []\n",
    "\n",
    "for (s_index, s) in enumerate(seeds):\n",
    "    \n",
    "    random_state = s\n",
    "    \n",
    "    X_train, X_test, y_train, y_test = train_test_split(\n",
    "        df[features], \n",
    "        df[target], \n",
    "        train_size = train_perc, \n",
    "        random_state = random_state, \n",
    "        stratify = df[target]\n",
    "    )\n",
    "\n",
    "    #model = lm.LogisticRegression()\n",
    "    model = nbr.KNeighborsClassifier(n_neighbors = 5)\n",
    "    model.fit(X_train, y_train)\n",
    "\n",
    "    y_pred_train = model.predict(X_train)\n",
    "    y_pred_test = model.predict(X_test)\n",
    "\n",
    "    #metrics_train = uc.compute_classification_metrics(y = y_train, y_pred = y_pred_train)\n",
    "    #metrics_test = uc.compute_classification_metrics(y = y_test, y_pred = y_pred_test)\n",
    "    \n",
    "    acc_train = mtr.accuracy_score(y_true = y_train, y_pred = y_pred_train, normalize = True, sample_weight = None)\n",
    "    acc_test = mtr.accuracy_score(y_true = y_test, y_pred = y_pred_test, normalize = True, sample_weight = None)\n",
    "\n",
    "    #scores_train.append(1 - metrics_train['ACCURACY'])\n",
    "    #scores_test.append(1 - metrics_test['ACCURACY'])\n",
    "    \n",
    "    scores_train.append(1 - acc_train)\n",
    "    scores_test.append(1 - acc_test)\n",
    "    "
   ]
  },
  {
   "cell_type": "code",
   "execution_count": 12,
   "metadata": {},
   "outputs": [
    {
     "name": "stdout",
     "output_type": "stream",
     "text": [
      "\n",
      "train | err mean :  0.0363333333333\n",
      "train | err std  :  0.0105092551803\n",
      "\n",
      "test  | err mean :  0.0526666666667\n",
      "test  | err std  :  0.0320347034046\n"
     ]
    }
   ],
   "source": [
    "print()\n",
    "print('train | err mean : ', np.mean(scores_train))\n",
    "print('train | err std  : ', np.std(scores_train))\n",
    "\n",
    "print()\n",
    "print('test  | err mean : ', np.mean(scores_test))\n",
    "print('test  | err std  : ', np.std(scores_test))\n"
   ]
  },
  {
   "cell_type": "code",
   "execution_count": 13,
   "metadata": {},
   "outputs": [
    {
     "data": {
      "image/png": "[encoded data removed]",
      "text/plain": [
       "<matplotlib.figure.Figure at 0x24ff2e9a828>"
      ]
     },
     "metadata": {},
     "output_type": "display_data"
    }
   ],
   "source": [
    "fig, axs = plt.subplots(nrows = 1, ncols = 2, figsize=(20, 6), sharey = True) \n",
    "\n",
    "width = 0.2\n",
    "tick_label = np.array( list(range(1, 101 + 1, 10)) ) -1\n",
    "axs[0].bar(left = np.array(seeds), height = scores_train, width = width, align = 'center', color = 'blue', label = 'err train')\n",
    "axs[0].plot( (min(seeds), max(seeds)), (np.mean(scores_train), np.mean(scores_train)), color = 'blue', lw = 2, linestyle = '--')\n",
    "axs[0].legend(loc='best')\n",
    "\n",
    "axs[1].bar(left = np.array(seeds), height = scores_train, width = width, align = 'center', color = 'red', label = 'err test')\n",
    "axs[1].plot( (min(seeds), max(seeds)), (np.mean(scores_test), np.mean(scores_test)), color = 'red', lw = 2, linestyle = '--')\n",
    "axs[1].legend(loc='best')\n",
    "\n",
    "plt.tight_layout()\n",
    "plt.show()"
   ]
  },
  {
   "cell_type": "markdown",
   "metadata": {},
   "source": [
    "## Considerations\n",
    "\n",
    "<br>\n",
    "Repeated stratified hold-out evaluation is likely the best hold-out evaluation algorithm, because it performs both stratification and repetition, thus mitigating the two major issues we have found so far :\n",
    "\n",
    "<br>\n",
    "<ul style=\"list-style-type:square\">\n",
    "    <li>\n",
    "        stratification addresses the issue of the distribution of data between training and test sets, in other words, we no\n",
    "        longer need to rely on random splits (the issue affects both hold-out and repeated hold-out)\n",
    "    </li>\n",
    "    <br>\n",
    "    <li>\n",
    "        repetition addresses the issue that some data points may never appear in training (or test) set, increasing the number\n",
    "        of repetitions improves the probability of a data-point to be selected (sooner or later) for the training set (and the\n",
    "        test set, for both actually) set (the issue affects both hold-out and stratified hold-out)\n",
    "    </li>\n",
    "</ul>"
   ]
  },
  {
   "cell_type": "markdown",
   "metadata": {},
   "source": [
    "<br>\n",
    "<b>Further questions/issues</b> :\n",
    "\n",
    "<br>\n",
    "<ul style=\"list-style-type:square\">\n",
    "    <li>\n",
    "        the different test (or training) sets may overlap; <br>\n",
    "        the repeated use of samples for testing results in performance estimates that become dependent between rounds, this\n",
    "        dependence can be problematic for statistical comparisons (inherited from repeated hold-out)\n",
    "    </li>\n",
    "    <br>\n",
    "    <li>\n",
    "        the size we choose for the test set (inherited from hold-out validation)\n",
    "    </li>\n",
    "</ul>"
   ]
  },
  {
   "cell_type": "markdown",
   "metadata": {},
   "source": [
    "<br>\n",
    "<b>Note</b> : see Cross Validation - K Fold"
   ]
  }
 ],
 "metadata": {
  "kernelspec": {
   "display_name": "Python 3",
   "language": "python",
   "name": "python3"
  },
  "language_info": {
   "codemirror_mode": {
    "name": "ipython",
    "version": 3
   },
   "file_extension": ".py",
   "mimetype": "text/x-python",
   "name": "python",
   "nbconvert_exporter": "python",
   "pygments_lexer": "ipython3",
   "version": "3.6.1"
  }
 },
 "nbformat": 4,
 "nbformat_minor": 2
}
