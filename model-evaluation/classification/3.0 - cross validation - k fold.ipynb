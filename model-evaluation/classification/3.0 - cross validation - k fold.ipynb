{
 "cells": [
  {
   "cell_type": "markdown",
   "metadata": {},
   "source": [
    "# CROSS VALIDATION : K FOLD\n",
    "\n",
    "<br>"
   ]
  },
  {
   "cell_type": "markdown",
   "metadata": {},
   "source": [
    "## Introduction\n",
    "\n",
    "<br>\n",
    "K-fold cross-validation is a special case of cross-validation where we iterate over a dataset set $k$ times. In each round, we split the dataset into $k$ parts (or folds): the $k^{th}$ fold is used for validation (test set), and the remaining $k - 1$ folds are merged into a training set for model fitting.\n",
    "\n",
    "<br>\n",
    "Just as in the hold-out method, in each iteration of k-fold we use a learning algorithm with fixed hyper-parameters to fit models to the training folds. This procedure will result in <b>$k$ different models fitted : these models were fit to distinct (yet partly overlapping) training sets and evaluated on non-overlapping test sets. Eventually, the generalization performace is computed as the arithmetic mean over the $k$ performance estimates</b>.\n",
    "\n",
    "<br>\n",
    "The main difference between the hold-out method is that <b>k-fold cross-validation uses all data for training and testing</b>. The idea behind this approach is to <b>reduce the pessimistic bias by using more training data</b> in contrast to setting aside a relatively large portion of the dataset as test data.\n"
   ]
  },
  {
   "cell_type": "markdown",
   "metadata": {},
   "source": [
    "<img src=\"images/k-fold-summary.png\" width=\"60%\" height=\"60%\">"
   ]
  },
  {
   "cell_type": "code",
   "execution_count": 1,
   "metadata": {},
   "outputs": [
    {
     "name": "stderr",
     "output_type": "stream",
     "text": [
      "C:\\Users\\danis_p50\\Anaconda3\\lib\\site-packages\\statsmodels\\compat\\pandas.py:56: FutureWarning: The pandas.core.datetools module is deprecated and will be removed in a future version. Please use the pandas.tseries module instead.\n",
      "  from pandas.core import datetools\n"
     ]
    }
   ],
   "source": [
    "# SETUP : importing\n",
    "\n",
    "import numpy as np\n",
    "import pandas as pd\n",
    "from sklearn.datasets import load_iris\n",
    "\n",
    "from matplotlib import pyplot as plt\n",
    "%matplotlib inline\n",
    "import seaborn as sns\n",
    "sns.set(style=\"darkgrid\")\n",
    "\n",
    "from sklearn.model_selection import train_test_split\n",
    "#import sklearn.linear_model as lm\n",
    "import sklearn.neighbors as nbr\n",
    "from sklearn.model_selection import KFold\n",
    "import sklearn.metrics as mtr\n",
    "\n",
    "import preprocessing as pre\n",
    "import utilcompute as uc\n",
    "from pprint import pprint\n"
   ]
  },
  {
   "cell_type": "code",
   "execution_count": 2,
   "metadata": {
    "collapsed": true
   },
   "outputs": [],
   "source": [
    "# SETUP : reading in the datasets\n",
    "\n",
    "data = np.column_stack( (load_iris().data, load_iris().target) )\n",
    "df = pd.DataFrame(data)\n",
    "df.columns = ['sepal length', 'sepal width', 'petal length', 'petal width', 'species']\n",
    "\n",
    "#print('df.shape[0] : ', df.shape[0])\n"
   ]
  },
  {
   "cell_type": "code",
   "execution_count": 3,
   "metadata": {
    "collapsed": true
   },
   "outputs": [],
   "source": [
    "#df.describe()"
   ]
  },
  {
   "cell_type": "code",
   "execution_count": 4,
   "metadata": {
    "collapsed": true
   },
   "outputs": [],
   "source": [
    "# DATA PREPROCESSING : deleting features\n",
    "\n",
    "to_delete = []\n",
    "cols = [c for c in df.columns.values.tolist() if (c not in to_delete)]\n",
    "df = df[cols]\n",
    "\n",
    "#print('columns : ', df.columns.values.tolist())"
   ]
  },
  {
   "cell_type": "code",
   "execution_count": 5,
   "metadata": {
    "collapsed": true
   },
   "outputs": [],
   "source": [
    "target = 'species'\n",
    "if (isinstance(target, list)):\n",
    "    features = [c for c in df.columns.values.tolist() if (c not in target)]\n",
    "else:\n",
    "    features = [c for c in df.columns.values.tolist() if (c != target)]\n",
    "\n",
    "#print('features : ', features)\n",
    "#print('target   : ', target)"
   ]
  },
  {
   "cell_type": "code",
   "execution_count": 6,
   "metadata": {},
   "outputs": [
    {
     "name": "stdout",
     "output_type": "stream",
     "text": [
      "df : \n",
      "\n",
      "{'petal length': 173.96896536339727,\n",
      " 'petal width': 55.48868864572551,\n",
      " 'sepal length': 264.7457109493044,\n",
      " 'sepal width': 97.111605833803296}\n",
      "\n",
      "df_std : \n",
      "\n",
      "{'petal length': 31.397291650719751,\n",
      " 'petal width': 16.141563956997683,\n",
      " 'sepal length': 7.1031134428332869,\n",
      " 'sepal width': 2.0990386257420881}\n"
     ]
    }
   ],
   "source": [
    "# DATA PREPROCESSING : features standardization\n",
    "\n",
    "vif_dict = uc.compute_vif(df = df, features = features)\n",
    "print('df : ')\n",
    "print()\n",
    "pprint(vif_dict)\n",
    "\n",
    "print()\n",
    "\n",
    "df_std = pre.standardize(df = df, included = features, excluded = target)\n",
    "\n",
    "vif_dict = uc.compute_vif(df = df_std, features = features)\n",
    "print('df_std : ')\n",
    "print()\n",
    "pprint(vif_dict)\n"
   ]
  },
  {
   "cell_type": "code",
   "execution_count": 7,
   "metadata": {
    "collapsed": true
   },
   "outputs": [],
   "source": [
    "# DATA PREPROCESSING : vif subset selection [reduces multicollinearity]\n",
    "\n",
    "VIF = False\n",
    "\n",
    "if (VIF):\n",
    "    selected_features = uc.vif_best_subset_selection(\n",
    "        vif_threshold = 5, \n",
    "        df = df_std, \n",
    "        features = features, \n",
    "        level = len(features), \n",
    "        debug = False\n",
    "    )\n",
    "    t = uc.concatenate(features, target)\n",
    "    df_std = df_std[t]\n",
    "    \n",
    "    vif_dict = uc.compute_vif(df = df_std, features = selected_features)\n",
    "    pprint(vif_dict)\n",
    "else:\n",
    "    selected_features = features\n"
   ]
  },
  {
   "cell_type": "code",
   "execution_count": 8,
   "metadata": {},
   "outputs": [
    {
     "name": "stdout",
     "output_type": "stream",
     "text": [
      "['petal length' 'petal width' 'sepal length' 'sepal width' 'species']\n"
     ]
    }
   ],
   "source": [
    "# DATA PREPROCESSING : final setup\n",
    "\n",
    "df = df_std\n",
    "features = selected_features\n",
    "\n",
    "print(df_std.columns.values)"
   ]
  },
  {
   "cell_type": "code",
   "execution_count": 9,
   "metadata": {},
   "outputs": [
    {
     "name": "stdout",
     "output_type": "stream",
     "text": [
      "k (# of folds) :  10\n"
     ]
    }
   ],
   "source": [
    "# GLOBAL PARAMETERS \n",
    "\n",
    "n_splits = 10\n",
    "\n",
    "print('k (# of folds) : ', n_splits)\n"
   ]
  },
  {
   "cell_type": "code",
   "execution_count": 10,
   "metadata": {
    "collapsed": true
   },
   "outputs": [],
   "source": [
    "columns = ['iteration', 'err_train', 'err_test']\n",
    "results_df = pd.DataFrame(data = None, index = None, columns = columns)\n",
    "\n",
    "kf = KFold(n_splits = n_splits, shuffle = False, random_state = None)    \n",
    "for k, (train_positions, test_positions) in enumerate(kf.split(X = df[features], y = df[target])) :\n",
    "\n",
    "    fold_train = df.iloc[train_positions]   \n",
    "    fold_test = df.iloc[test_positions]  \n",
    "    \n",
    "    # if (k == 0):\n",
    "    #    print('train indices : {0} - {1}'.format(fold_train.index.values[:3], fold_train.index.values[-3:]))\n",
    "    #    print('test  indices : {0} - {1}'.format(fold_test.index.values[:3], fold_test.index.values[-3:]))\n",
    "    #    print()\n",
    "\n",
    "    #model = lm.LogisticRegression()\n",
    "    model = nbr.KNeighborsClassifier(n_neighbors = 5)\n",
    "    model.fit(fold_train[features], fold_train[target])\n",
    "\n",
    "    y_pred_train = model.predict(fold_train[features])\n",
    "    y_pred_test = model.predict(fold_test[features])\n",
    "\n",
    "    #metrics_train = uc.compute_classification_metrics(y = fold_train[target], y_pred = y_pred_train)\n",
    "    #metrics_test = uc.compute_classification_metrics(y = fold_test[target], y_pred = y_pred_test)\n",
    "    \n",
    "    acc_train = mtr.accuracy_score(y_true = fold_train[target], y_pred = y_pred_train, normalize = True, sample_weight = None)\n",
    "    acc_test = mtr.accuracy_score(y_true = fold_test[target], y_pred = y_pred_test, normalize = True, sample_weight = None)\n",
    "\n",
    "    values_dict = {\n",
    "        'iteration' : k + 1,            \n",
    "        #'err_train' : 1 - metrics_train['ACCURACY'],\n",
    "        #'err_test' : 1 - metrics_test['ACCURACY'],\n",
    "        'err_train' : 1 - acc_train,\n",
    "        'err_test' : 1 - acc_test,\n",
    "    }\n",
    "\n",
    "    results_index = k\n",
    "    results_df.loc[results_index] = values_dict     \n",
    "\n",
    "results_df = results_df.astype(dtype = 'float')\n",
    "#print(results_df)\n"
   ]
  },
  {
   "cell_type": "code",
   "execution_count": 11,
   "metadata": {},
   "outputs": [
    {
     "name": "stdout",
     "output_type": "stream",
     "text": [
      "\n",
      "train | err mean :  0.04\n",
      "train | err std  :  0.0140545673785261\n",
      "\n",
      "test  | err mean :  0.07333333333333332\n",
      "test  | err std  :  0.0857789291805279\n"
     ]
    }
   ],
   "source": [
    "print()\n",
    "print('train | err mean : ', results_df['err_train'].mean())\n",
    "print('train | err std  : ', results_df['err_train'].std())\n",
    "\n",
    "print()\n",
    "print('test  | err mean : ', results_df['err_test'].mean())\n",
    "print('test  | err std  : ', results_df['err_test'].std())\n"
   ]
  },
  {
   "cell_type": "code",
   "execution_count": 12,
   "metadata": {},
   "outputs": [
    {
     "data": {
      "image/png": "[encoded data removed]",
      "text/plain": [
       "<matplotlib.figure.Figure at 0x1fe872c0710>"
      ]
     },
     "metadata": {},
     "output_type": "display_data"
    }
   ],
   "source": [
    "fig, axs = plt.subplots(nrows = 1, ncols = 2, figsize=(20, 6), sharey = True) \n",
    "\n",
    "it_min = results_df['iteration'].min()\n",
    "it_max = results_df['iteration'].max()\n",
    "\n",
    "err_train_mean = results_df['err_train'].mean()\n",
    "err_test_mean = results_df['err_test'].mean()\n",
    "\n",
    "axs[0].plot(results_df['iteration'], results_df['err_train'], color = 'blue', label = 'err train', marker = 'o')\n",
    "axs[0].plot( (it_min, it_max), (err_train_mean, err_train_mean), color = 'blue', lw = 2, linestyle = '--')\n",
    "axs[0].set_xlabel('iteration')\n",
    "axs[0].legend(loc = 'best')\n",
    "\n",
    "axs[1].plot(results_df['iteration'], results_df['err_test'], color = 'red', label = 'err test', marker = 'o')\n",
    "axs[1].plot( (it_min, it_max), (err_test_mean, err_test_mean), color = 'red', lw = 2, linestyle = '--')\n",
    "axs[1].set_xlabel('iteration')\n",
    "axs[1].legend(loc = 'best')\n",
    "\n",
    "#y_lim = (0,0)\n",
    "#max_y_range = y_lim[1] - y_lim[0]\n",
    "#for ax in axs:\n",
    "#    y_range = ax.get_ylim()[1] - ax.get_ylim()[0]\n",
    "#    if (y_range > max_y_range):\n",
    "#        max_y_range = y_range\n",
    "#        y_lim = ax.get_ylim()\n",
    "#for ax in axs:   \n",
    "#    ax.set_ylim(y_lim)\n",
    "\n",
    "plt.tight_layout()\n",
    "plt.show()\n"
   ]
  },
  {
   "cell_type": "markdown",
   "metadata": {},
   "source": [
    "## Considerations\n",
    "\n",
    "<br>\n",
    "K-fold cross-validation guarantees that each data point will be selected for the training fold in $k - 1$ iterations, and for the validation fold once and only once (in contrast to repeated hold-out, where some samples may never be part of the test set).\n",
    "\n",
    "<br>\n",
    "This mechanism makes it possible to have <b>large (yet partly overlapping) training sets, and non-overlapping test sets; this last characteristic of k-fold cv addresses another issue of repeated hold-out : the repeated use of samples in the test sets</b> yields to performance estimates that become dependent between rounds, this dependence can be problematic for statistical comparisons.\n",
    "\n",
    "<br>\n",
    "<b>Stratification is not usually part of the algorithm, unless we are to perform sub-sampling from the original dataset</b>; in that case, being sub-sampling part of the data pre-processing phase, it has to be executed during cross-validation and we would considerate sub-sampling with stratification: in each of the $k$ iterations, the data available will be first sub-sampled, and the resulting points eventually splitted into training and validation sets.                                           "
   ]
  },
  {
   "cell_type": "markdown",
   "metadata": {},
   "source": [
    "<br>\n",
    "<b>Further questions/issues</b> :\n",
    "\n",
    "<br>\n",
    "<ul style=\"list-style-type:square\">\n",
    "    <li>\n",
    "        computationally expensive \n",
    "    </li>\n",
    "    <br>\n",
    "    <li>\n",
    "        variance tends to be high\n",
    "    </li>\n",
    "    <br>\n",
    "    <li>\n",
    "        the choice of K\n",
    "    </li>\n",
    "</ul>"
   ]
  },
  {
   "cell_type": "markdown",
   "metadata": {},
   "source": [
    "<br>\n",
    "<table  align = \"left\" bgcolor=\"#00FF00\">\n",
    "    <tr>\n",
    "        <td><b>Note</b> : </td><td>see Cross Validation - K Fold - 2 folds</td>\n",
    "    </tr>\n",
    "    <tr>\n",
    "        <td></td><td>see Cross Validation - K fold - N folds</td>\n",
    "    </tr>\n",
    "</table>"
   ]
  },
  {
   "cell_type": "markdown",
   "metadata": {},
   "source": [
    "## References\n",
    "\n",
    "<br>\n",
    "<ul style=\"list-style-type:square\">\n",
    "    <li>\n",
    "         Sebastian Raschka - \n",
    "         <a href=\"https://bit.ly/2LEwbSN\">\n",
    "         Model evaluation, model selection, and algorithm selection in machine learning - Part III</a>        \n",
    "    </li>\n",
    "</ul>"
   ]
  }
 ],
 "metadata": {
  "kernelspec": {
   "display_name": "Python 3",
   "language": "python",
   "name": "python3"
  },
  "language_info": {
   "codemirror_mode": {
    "name": "ipython",
    "version": 3
   },
   "file_extension": ".py",
   "mimetype": "text/x-python",
   "name": "python",
   "nbconvert_exporter": "python",
   "pygments_lexer": "ipython3",
   "version": "3.6.1"
  }
 },
 "nbformat": 4,
 "nbformat_minor": 2
}
