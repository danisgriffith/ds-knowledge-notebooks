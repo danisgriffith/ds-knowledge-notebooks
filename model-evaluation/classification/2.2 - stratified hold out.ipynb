{
 "cells": [
  {
   "cell_type": "markdown",
   "metadata": {},
   "source": [
    "# <font color='#28B463'>STRATIFIED HOLD-OUT\n",
    "\n",
    "<br>"
   ]
  },
  {
   "cell_type": "markdown",
   "metadata": {},
   "source": [
    "## <font color='#28B463'>Introduction\n",
    "\n",
    "<br>\n",
    "The problem of the representativeness of the training (and test) set becomes even worse if the original dataset has a high class imbalance upfront. In the worst-case scenario, the test set may not contain any instance of a minority class at all. The common practice is to divide the dataset in a stratified fashion. \n",
    "\n",
    "<br>\n",
    "Stratification simply means that we randomly split the dataset so that each class is correctly represented in the resulting subsets.\n"
   ]
  },
  {
   "cell_type": "code",
   "execution_count": 1,
   "metadata": {
    "collapsed": true
   },
   "outputs": [],
   "source": [
    "# SETUP : importing\n",
    "\n",
    "import numpy as np\n",
    "import pandas as pd\n",
    "from sklearn.datasets import load_iris\n",
    "\n",
    "from matplotlib import pyplot as plt\n",
    "%matplotlib inline\n",
    "import seaborn as sns\n",
    "sns.set(style=\"darkgrid\")\n",
    "\n",
    "from sklearn.model_selection import train_test_split\n",
    "#import sklearn.linear_model as lm\n",
    "import sklearn.neighbors as nbr\n",
    "import sklearn.metrics as mtr\n",
    "\n",
    "import utilcompute as uc\n",
    "from pprint import pprint\n"
   ]
  },
  {
   "cell_type": "code",
   "execution_count": 2,
   "metadata": {
    "collapsed": true
   },
   "outputs": [],
   "source": [
    "# SETUP : reading in the datasets\n",
    "\n",
    "data = np.column_stack( (load_iris().data, load_iris().target) )\n",
    "df = pd.DataFrame(data)\n",
    "df.columns = ['sepal length', 'sepal width', 'petal length', 'petal width', 'species']\n",
    "\n",
    "#print('df.shape[0] : ', df.shape[0])\n"
   ]
  },
  {
   "cell_type": "code",
   "execution_count": 3,
   "metadata": {
    "collapsed": true
   },
   "outputs": [],
   "source": [
    "#df.describe()"
   ]
  },
  {
   "cell_type": "code",
   "execution_count": 4,
   "metadata": {
    "collapsed": true
   },
   "outputs": [],
   "source": [
    "# DATA PREPROCESSING : deleting features\n",
    "\n",
    "to_delete = []\n",
    "cols = [c for c in df.columns.values.tolist() if (c not in to_delete)]\n",
    "df = df[cols]\n",
    "\n",
    "#print('columns : ', df.columns.values.tolist())"
   ]
  },
  {
   "cell_type": "code",
   "execution_count": 5,
   "metadata": {
    "collapsed": true
   },
   "outputs": [],
   "source": [
    "target = 'species'\n",
    "if (isinstance(target, list)):\n",
    "    features = [c for c in df.columns.values.tolist() if (c not in target)]\n",
    "else:\n",
    "    features = [c for c in df.columns.values.tolist() if (c != target)]\n",
    "\n",
    "#print('features : ', features)\n",
    "#print('target   : ', target)"
   ]
  },
  {
   "cell_type": "code",
   "execution_count": 6,
   "metadata": {},
   "outputs": [
    {
     "name": "stdout",
     "output_type": "stream",
     "text": [
      "df : \n",
      "\n",
      "{'petal length': 173.96896536339727,\n",
      " 'petal width': 55.48868864572551,\n",
      " 'sepal length': 264.7457109493044,\n",
      " 'sepal width': 97.111605833803296}\n",
      "\n",
      "df_std : \n",
      "\n",
      "{'petal length': 31.397291650719751,\n",
      " 'petal width': 16.141563956997683,\n",
      " 'sepal length': 7.1031134428332869,\n",
      " 'sepal width': 2.0990386257420881}\n"
     ]
    }
   ],
   "source": [
    "# DATA PREPROCESSING : features standardization\n",
    "\n",
    "vif_dict = uc.compute_vif(df = df, features = features)\n",
    "print('df : ')\n",
    "print()\n",
    "pprint(vif_dict)\n",
    "\n",
    "print()\n",
    "\n",
    "df_std = uc.standardize(df = df, included = features, excluded = target)\n",
    "\n",
    "vif_dict = uc.compute_vif(df = df_std, features = features)\n",
    "print('df_std : ')\n",
    "print()\n",
    "pprint(vif_dict)\n"
   ]
  },
  {
   "cell_type": "code",
   "execution_count": 7,
   "metadata": {
    "collapsed": true
   },
   "outputs": [],
   "source": [
    "# DATA PREPROCESSING : vif subset selection [reduces multicollinearity]\n",
    "\n",
    "VIF = False\n",
    "\n",
    "if (VIF):\n",
    "    selected_features = uc.vif_best_subset_selection(\n",
    "        vif_threshold = 5, \n",
    "        df = df_std, \n",
    "        features = features, \n",
    "        level = len(features), \n",
    "        debug = False\n",
    "    )\n",
    "    t = uc.concatenate(features, target)\n",
    "    df_std = df_std[t]\n",
    "    \n",
    "    vif_dict = uc.compute_vif(df = df_std, features = selected_features)\n",
    "    pprint(vif_dict)\n",
    "else:\n",
    "    selected_features = features\n"
   ]
  },
  {
   "cell_type": "code",
   "execution_count": 8,
   "metadata": {},
   "outputs": [
    {
     "name": "stdout",
     "output_type": "stream",
     "text": [
      "['petal length' 'petal width' 'sepal length' 'sepal width' 'species']\n"
     ]
    }
   ],
   "source": [
    "# DATA PREPROCESSING : final setup\n",
    "\n",
    "df = df_std\n",
    "features = selected_features\n",
    "\n",
    "print(df_std.columns.values)"
   ]
  },
  {
   "cell_type": "code",
   "execution_count": 9,
   "metadata": {},
   "outputs": [
    {
     "name": "stdout",
     "output_type": "stream",
     "text": [
      "train set size   :  120\n",
      "test  set size   :  30\n",
      "\n",
      "random_state :  1\n"
     ]
    }
   ],
   "source": [
    "# GLOBAL PARAMETERS \n",
    "\n",
    "train_perc = 0.8\n",
    "delimiter = int(len(df) * train_perc)\n",
    "random_state = 1\n",
    "\n",
    "print('train set size   : ', delimiter)\n",
    "print('test  set size   : ', (len(df) - delimiter))\n",
    "print()\n",
    "print('random_state : ', random_state)\n"
   ]
  },
  {
   "cell_type": "code",
   "execution_count": 10,
   "metadata": {
    "collapsed": true
   },
   "outputs": [],
   "source": [
    "# [TEST]\n",
    "\n",
    "SHOW_EXAMPLE = False\n",
    "\n",
    "if (SHOW_EXAMPLE):\n",
    "    \n",
    "    X_train, X_test, y_train, y_test = train_test_split(\n",
    "        df[features], df[target], \n",
    "        train_size = train_perc, \n",
    "        random_state = random_state, \n",
    "        stratify = df[target]\n",
    "    )\n",
    "\n",
    "    print('random state : ', random_state)\n",
    "    print()\n",
    "    print('X_train : {0} ... {1}'.format(X_train.index.values[:8], X_train.index.values[-8:]))\n",
    "    print('y_train : {0} ... {1}'.format(y_train.index.values[:8], y_train.index.values[-8:]))\n",
    "    print(y_train.value_counts(normalize = True, sort = True))\n",
    "\n",
    "    print()\n",
    "    print('X_test : {0} ... {1}'.format(X_test.index.values[:8], X_test.index.values[-8:]))\n",
    "    print('y_test : {0} ... {1}'.format(y_test.index.values[:8], y_test.index.values[-8:]))\n",
    "    print(y_test.value_counts(normalize = True, sort = True))\n",
    "    print()\n",
    "    print()\n",
    "\n",
    "    fig, axs = plt.subplots(nrows = 1, ncols = 2 , figsize=(20, 4))  \n",
    "    sns.countplot(y = y_train.values, ax = axs[0])\n",
    "    sns.countplot(y = y_test.values, ax = axs[1])\n",
    "    plt.show()"
   ]
  },
  {
   "cell_type": "code",
   "execution_count": 11,
   "metadata": {
    "collapsed": true
   },
   "outputs": [],
   "source": [
    "X_train, X_test, y_train, y_test = train_test_split(\n",
    "    df[features], \n",
    "    df[target], \n",
    "    train_size = train_perc, \n",
    "    random_state = random_state, \n",
    "    stratify = df[target]\n",
    ")\n",
    "\n",
    "#model = lm.LogisticRegression()\n",
    "model = nbr.KNeighborsClassifier(n_neighbors = 5)\n",
    "model.fit(X_train, y_train)\n",
    "\n",
    "y_pred_train = model.predict(X_train)\n",
    "y_pred_test = model.predict(X_test)\n",
    "\n",
    "#metrics_train = uc.compute_classification_metrics(y = y_train, y_pred = y_pred_train)\n",
    "#metrics_test = uc.compute_classification_metrics(y = y_test, y_pred = y_pred_test)\n",
    "\n",
    "acc_train = mtr.accuracy_score(y_true = y_train, y_pred = y_pred_train, normalize = True, sample_weight = None)\n",
    "acc_test = mtr.accuracy_score(y_true = y_test, y_pred = y_pred_test, normalize = True, sample_weight = None)\n",
    "\n",
    "#score_train = 1 - metrics_train['ACCURACY'] \n",
    "#score_test = 1 - metrics_test['ACCURACY'] \n",
    "\n",
    "score_train = 1 - acc_train\n",
    "score_test = 1 - acc_test\n",
    "    "
   ]
  },
  {
   "cell_type": "code",
   "execution_count": 12,
   "metadata": {},
   "outputs": [
    {
     "name": "stdout",
     "output_type": "stream",
     "text": [
      "\n",
      "train | err :  0.0333333333333\n",
      "test  | err :  0.0333333333333\n"
     ]
    }
   ],
   "source": [
    "print()\n",
    "print('train | err : ', score_train)\n",
    "print('test  | err : ', score_test)\n"
   ]
  },
  {
   "cell_type": "markdown",
   "metadata": {},
   "source": [
    "## <font color='#28B463'>Considerations\n",
    "\n",
    "<br>\n",
    "With regard to the distribution of data points (in the training or test set), <b>stratification guarantees that the target variable is represented consistently</b> (with approximately equal proportions) <b>in both subsets</b>.\n",
    "\n",
    "<br>\n",
    "<b>Stratified hold-out validation is thus a better alternative to hold-out validation</b>.\n",
    "\n",
    "<br>\n",
    "<font color='#28B463'><b>Further questions/issues</b></font> :\n",
    "\n",
    "<br>\n",
    "<ul style=\"list-style-type:square\">\n",
    "    <li>\n",
    "        some data points may never appear in training (or test) set (inherited from hold-out validation)\n",
    "    </li>\n",
    "    <br>\n",
    "    <li>\n",
    "        some data points may never appear in training (or test) set (inherited from hold-out validation)\n",
    "    </li>\n",
    "</ul>\n",
    "\n",
    "<br>\n",
    "<font color='#28B463'><b>Note</b></font> : see Repeated Stratified Hold-Out\n"
   ]
  },
  {
   "cell_type": "markdown",
   "metadata": {},
   "source": [
    "## <font color='#28B463'>References\n",
    "\n",
    "<br>\n",
    "<ul style=\"list-style-type:square\">\n",
    "    <li>\n",
    "        Sebastian Raschka - Model evaluation, model selection, and algorithm selection in machine learning - Part I <br>\n",
    "        https://sebastianraschka.com/blog/2016/model-evaluation-selection-part1.html\n",
    "    </li>\n",
    "    <br>\n",
    "    <li>\n",
    "        Sebastian Raschka - Model evaluation, model selection, and algorithm selection in machine learning - Part II <br>\n",
    "        https://sebastianraschka.com/blog/2016/model-evaluation-selection-part2.html\n",
    "    </li>\n",
    "</ul>\n"
   ]
  }
 ],
 "metadata": {
  "kernelspec": {
   "display_name": "Python 3",
   "language": "python",
   "name": "python3"
  },
  "language_info": {
   "codemirror_mode": {
    "name": "ipython",
    "version": 3
   },
   "file_extension": ".py",
   "mimetype": "text/x-python",
   "name": "python",
   "nbconvert_exporter": "python",
   "pygments_lexer": "ipython3",
   "version": "3.6.1"
  }
 },
 "nbformat": 4,
 "nbformat_minor": 2
}
