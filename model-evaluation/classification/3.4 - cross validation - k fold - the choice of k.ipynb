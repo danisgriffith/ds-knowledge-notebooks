{
 "cells": [
  {
   "cell_type": "markdown",
   "metadata": {},
   "source": [
    "# CROSS VALIDATION : THE CHOICE OF K \n",
    "\n",
    "<br>"
   ]
  },
  {
   "cell_type": "markdown",
   "metadata": {},
   "source": [
    "## Introduction\n",
    "\n",
    "<br>\n",
    "Several studies compared different values of $k$ in k-fold cross validation, analyzing how the choice of this hyper-parameter affects the variance and the bias of the estimate. Unfortunately, there is no such thing as a free lunch; however, we are interested in finding a sweet spot, a value that seems to be a good trade-off between variance and bias in most cases."
   ]
  },
  {
   "cell_type": "code",
   "execution_count": 1,
   "metadata": {},
   "outputs": [
    {
     "name": "stderr",
     "output_type": "stream",
     "text": [
      "C:\\Users\\danis_p50\\Anaconda3\\lib\\site-packages\\statsmodels\\compat\\pandas.py:56: FutureWarning: The pandas.core.datetools module is deprecated and will be removed in a future version. Please use the pandas.tseries module instead.\n",
      "  from pandas.core import datetools\n"
     ]
    }
   ],
   "source": [
    "# SETUP : importing\n",
    "\n",
    "import numpy as np\n",
    "import pandas as pd\n",
    "from sklearn.datasets import load_iris\n",
    "\n",
    "from matplotlib import pyplot as plt\n",
    "%matplotlib inline\n",
    "import seaborn as sns\n",
    "sns.set(style=\"darkgrid\")\n",
    "\n",
    "#import sklearn.linear_model as lm\n",
    "import sklearn.neighbors as nbr\n",
    "from sklearn.model_selection import KFold\n",
    "import sklearn.metrics as mtr\n",
    "\n",
    "import preprocessing as pre\n",
    "import utilcompute as uc\n",
    "from pprint import pprint\n",
    "import datetime\n"
   ]
  },
  {
   "cell_type": "code",
   "execution_count": 2,
   "metadata": {
    "collapsed": true
   },
   "outputs": [],
   "source": [
    "# SETUP : reading in the datasets\n",
    "\n",
    "data = np.column_stack( (load_iris().data, load_iris().target) )\n",
    "df = pd.DataFrame(data)\n",
    "df.columns = ['sepal length', 'sepal width', 'petal length', 'petal width', 'species']\n",
    "\n",
    "#print('df.shape[0] : ', df.shape[0])\n"
   ]
  },
  {
   "cell_type": "code",
   "execution_count": 3,
   "metadata": {
    "collapsed": true
   },
   "outputs": [],
   "source": [
    "#df.describe()"
   ]
  },
  {
   "cell_type": "code",
   "execution_count": 4,
   "metadata": {
    "collapsed": true
   },
   "outputs": [],
   "source": [
    "# DATA PREPROCESSING : deleting features\n",
    "\n",
    "to_delete = []\n",
    "cols = [c for c in df.columns.values.tolist() if (c not in to_delete)]\n",
    "df = df[cols]\n",
    "\n",
    "#print('columns : ', df.columns.values.tolist())"
   ]
  },
  {
   "cell_type": "code",
   "execution_count": 5,
   "metadata": {
    "collapsed": true
   },
   "outputs": [],
   "source": [
    "target = 'species'\n",
    "if (isinstance(target, list)):\n",
    "    features = [c for c in df.columns.values.tolist() if (c not in target)]\n",
    "else:\n",
    "    features = [c for c in df.columns.values.tolist() if (c != target)]\n",
    "\n",
    "#print('features : ', features)\n",
    "#print('target   : ', target)"
   ]
  },
  {
   "cell_type": "code",
   "execution_count": 6,
   "metadata": {},
   "outputs": [
    {
     "name": "stdout",
     "output_type": "stream",
     "text": [
      "df : \n",
      "\n",
      "{'petal length': 173.96896536339727,\n",
      " 'petal width': 55.48868864572551,\n",
      " 'sepal length': 264.7457109493044,\n",
      " 'sepal width': 97.111605833803296}\n",
      "\n",
      "df_std : \n",
      "\n",
      "{'petal length': 31.397291650719751,\n",
      " 'petal width': 16.141563956997683,\n",
      " 'sepal length': 7.1031134428332869,\n",
      " 'sepal width': 2.0990386257420881}\n"
     ]
    }
   ],
   "source": [
    "# DATA PREPROCESSING : features standardization\n",
    "\n",
    "vif_dict = uc.compute_vif(df = df, features = features)\n",
    "print('df : ')\n",
    "print()\n",
    "pprint(vif_dict)\n",
    "\n",
    "print()\n",
    "\n",
    "df_std = pre.standardize(df = df, included = features, excluded = target)\n",
    "\n",
    "vif_dict = uc.compute_vif(df = df_std, features = features)\n",
    "print('df_std : ')\n",
    "print()\n",
    "pprint(vif_dict)\n"
   ]
  },
  {
   "cell_type": "code",
   "execution_count": 7,
   "metadata": {
    "collapsed": true
   },
   "outputs": [],
   "source": [
    "# DATA PREPROCESSING : vif subset selection [reduces multicollinearity]\n",
    "\n",
    "VIF = False\n",
    "\n",
    "if (VIF):\n",
    "    selected_features = uc.vif_best_subset_selection(\n",
    "        vif_threshold = 5, \n",
    "        df = df_std, \n",
    "        features = features, \n",
    "        level = len(features), \n",
    "        debug = False\n",
    "    )\n",
    "    t = uc.concatenate(features, target)\n",
    "    df_std = df_std[t]\n",
    "    \n",
    "    vif_dict = uc.compute_vif(df = df_std, features = selected_features)\n",
    "    pprint(vif_dict)\n",
    "else:\n",
    "    selected_features = features\n"
   ]
  },
  {
   "cell_type": "code",
   "execution_count": 8,
   "metadata": {},
   "outputs": [
    {
     "name": "stdout",
     "output_type": "stream",
     "text": [
      "['petal length' 'petal width' 'sepal length' 'sepal width' 'species']\n"
     ]
    }
   ],
   "source": [
    "# DATA PREPROCESSING : final setup\n",
    "\n",
    "df = df_std\n",
    "features = selected_features\n",
    "\n",
    "print(df_std.columns.values)"
   ]
  },
  {
   "cell_type": "code",
   "execution_count": 9,
   "metadata": {},
   "outputs": [
    {
     "name": "stdout",
     "output_type": "stream",
     "text": [
      "k (# of folds) :  [2, 3, 4, 5, 6, 7, 8, 9, 10, 12, 16, 20, 40, 60, 80, 100, 120]\n"
     ]
    }
   ],
   "source": [
    "# GLOBAL PARAMETERS \n",
    "\n",
    "splt_small = np.arange(2, 10 + 1, 1)\n",
    "splt_medium = [12, 16, 20, 40, 60]\n",
    "splt_large = [80, 100, 120]\n",
    "\n",
    "n_splits = splt_small.tolist() + splt_medium + splt_large\n",
    "\n",
    "print('k (# of folds) : ', n_splits)"
   ]
  },
  {
   "cell_type": "code",
   "execution_count": 10,
   "metadata": {
    "collapsed": true
   },
   "outputs": [],
   "source": [
    "columns = ['k', 'seed', 'iteration', 'err_train', 'err_test', 'time_ms']\n",
    "results_df = pd.DataFrame(data = None, index = None, columns = columns)\n",
    "\n",
    "results_index = 0\n",
    "seeds = range(1, 5 + 1, 1)\n",
    "\n",
    "for k in n_splits:\n",
    "    \n",
    "    kf = KFold(n_splits = k, shuffle = False, random_state = None)\n",
    "    \n",
    "    for s in seeds :\n",
    "        \n",
    "        sample_perc = 0.8\n",
    "        df_sampled = df.sample(frac = sample_perc, replace = False, random_state = s, axis = 0)        \n",
    "\n",
    "        for k_index, (train_positions, test_positions) in enumerate(kf.split(X = df_sampled[features], y = df_sampled[target])) :\n",
    "\n",
    "            #print('k : {0}   |   seed : {1}   |   k_index : {2}'.format(k, s, k_index))\n",
    "        \n",
    "            timer_start = datetime.datetime.now()\n",
    "\n",
    "            fold_train = df_sampled.iloc[train_positions]   \n",
    "            fold_test = df_sampled.iloc[test_positions]   \n",
    "\n",
    "            #if (k_index == 0):\n",
    "            #    print('train indices : {0} - {1}'.format(fold_train.index.values[:3], fold_train.index.values[-3:]))\n",
    "            #    print('test  indices : {0}'.format(fold_test.index.values))\n",
    "            #    print()\n",
    "\n",
    "            #model = lm.LogisticRegression()\n",
    "            model = nbr.KNeighborsClassifier(n_neighbors = 5)\n",
    "            model.fit(fold_train[features], fold_train[target])\n",
    "\n",
    "            y_pred_train = model.predict(fold_train[features])\n",
    "            y_pred_test = model.predict(fold_test[features])\n",
    "\n",
    "            timer_stop = datetime.datetime.now()\n",
    "\n",
    "            #metrics_train = uc.compute_classification_metrics(y = fold_train[target], y_pred = y_pred_train)\n",
    "            #metrics_test = uc.compute_classification_metrics(y = fold_test[target], y_pred = y_pred_test)\n",
    "\n",
    "            acc_train = mtr.accuracy_score(y_true = fold_train[target], y_pred = y_pred_train, normalize = True, sample_weight = None)\n",
    "            acc_test = mtr.accuracy_score(y_true = fold_test[target], y_pred = y_pred_test, normalize = True, sample_weight = None)\n",
    "\n",
    "            values_dict = {\n",
    "                'k' : k,\n",
    "                'seed' : s,\n",
    "                'iteration' : k_index + 1,            \n",
    "                #'err_train' : 1 - metrics_train['ACC'],\n",
    "                #'err_test' : 1 - metrics_test['ACC'],\n",
    "                'err_train' : 1 - acc_train,\n",
    "                'err_test' : 1 - acc_test,\n",
    "                'time_ms' : (timer_stop - timer_start).microseconds / 1000\n",
    "            }\n",
    "\n",
    "            results_df.loc[results_index] = values_dict    \n",
    "            results_index += 1\n",
    "\n",
    "results_df = results_df.astype(dtype = 'float')\n",
    "#print(results_df)\n"
   ]
  },
  {
   "cell_type": "code",
   "execution_count": 11,
   "metadata": {},
   "outputs": [
    {
     "name": "stdout",
     "output_type": "stream",
     "text": [
      "\n",
      "train | err mean :  0.03740033554158327\n",
      "train | err std  :  0.014233874794684749\n",
      "\n",
      "test  | err mean :  0.05051423695435882\n",
      "test  | err std  :  0.17539889727223232\n"
     ]
    }
   ],
   "source": [
    "print()\n",
    "print('train | err mean : ', results_df['err_train'].mean())\n",
    "print('train | err std  : ', results_df['err_train'].std())\n",
    "\n",
    "print()\n",
    "print('test  | err mean : ', results_df['err_test'].mean())\n",
    "print('test  | err std  : ', results_df['err_test'].std())\n"
   ]
  },
  {
   "cell_type": "code",
   "execution_count": 12,
   "metadata": {},
   "outputs": [
    {
     "data": {
      "image/png": "[encoded data removed]",
      "text/plain": [
       "<matplotlib.figure.Figure at 0x22c7ca42c88>"
      ]
     },
     "metadata": {},
     "output_type": "display_data"
    },
    {
     "data": {
      "image/png": "[encoded data removed]",
      "text/plain": [
       "<matplotlib.figure.Figure at 0x22c7cbcf908>"
      ]
     },
     "metadata": {},
     "output_type": "display_data"
    }
   ],
   "source": [
    "fig, axs = plt.subplots(nrows = 1, ncols = 2 , figsize=(20, 4), sharey = True)  \n",
    "\n",
    "sns.pointplot(x = 'k', y = 'err_train', data = results_df, join = True, color = 'blue', ax = axs[0], label = 'err train')\n",
    "axs[0].set_ylabel('')    \n",
    "sns.pointplot(x = 'k', y = 'err_test', data = results_df, join = True, color = 'red', ax = axs[1], label = 'err test')\n",
    "axs[1].set_ylabel('')  \n",
    "\n",
    "plt.tight_layout()\n",
    "plt.show()\n",
    "\n",
    "\n",
    "fig, axs = plt.subplots(nrows = 1, ncols = 1 , figsize=(20, 4))  \n",
    "sns.pointplot(x = 'k', y = 'time_ms', data = results_df, join = True, color = 'green', label = 'time [ms]')\n",
    "plt.show()"
   ]
  },
  {
   "cell_type": "markdown",
   "metadata": {},
   "source": [
    "## Considerations\n",
    "\n",
    "<br>\n",
    "Let’s summarize the analysis of the bias-variance trade-off by listing the general trends <b>as the number of folds increases</b> :\n",
    "\n",
    "<br>\n",
    "<ul style=\"list-style-type:square\">\n",
    "    <li>\n",
    "        the <b>bias decreases</b>; the performance estimator becomes more and more accurate with the size of the training set \n",
    "    </li>\n",
    "    <br>\n",
    "    <li>\n",
    "        the <b>variance increases</b> too; large values of $k$ lead to high variability of the performance estimator due to the\n",
    "        fact that the training set are extremely similar to one another; please keep in mind that the same behaviour can be\n",
    "        observed for small values of $k$ (the model is sensitive to how the dataset is split). <br>\n",
    "        <b>... why don't we see this pattern in the first two graphs ?</b>\n",
    "    </li>\n",
    "    <br>\n",
    "    <li>\n",
    "        the <b>computational cost increases</b>, due to more iterations and larger training sets to fit\n",
    "    </li>\n",
    "</ul>\n",
    "\n",
    "<br>\n",
    "Kohavi’s experiments on various real-world datasets suggest that <b>10-fold cross-validation offers the best trade-off between bias and variance</b>. Another usual value, especially for small datasets, is 5 (less expensive), although for such datasets we could also use LOOCV.\n",
    "\n",
    "<br>\n",
    "When the original dataset if of modest or small size, holding back a large part of data for model testing is ill-advised : this sort of fragmentation harms the model fitting to the extent that we won't have a trustworthy performace estimate anyway. Under such circumstances it is better to use all data for both training and testing through cross-validation.\n",
    "\n",
    "<br>\n",
    "As a rule of thumb, we can say that the pessimistic bias and large variance concerns are less problematic the larger the dataset. Moreover, it is not uncommon to repeat the k-fold cross-validation procedure with different random seeds in hope to obtain a more robust estimate. Please note that there is no point in repeating LOOCV, since LOOCV always produces the same splits.\n",
    "\n",
    "<br>\n",
    "Hold-out evaluation (and similar) is desirable over cross-validation when concerns arise about computational efficiency, if our dataset is sufficiently large. \n"
   ]
  },
  {
   "cell_type": "markdown",
   "metadata": {},
   "source": [
    "## References\n",
    "\n",
    "<br>\n",
    "<ul style=\"list-style-type:square\">\n",
    "    <li>\n",
    "         Sebastian Raschka - \n",
    "         <a href=\"https://bit.ly/2LEwbSN\">\n",
    "         Model evaluation, model selection, and algorithm selection in machine learning - Part III</a>        \n",
    "    </li>\n",
    "</ul>"
   ]
  }
 ],
 "metadata": {
  "kernelspec": {
   "display_name": "Python 3",
   "language": "python",
   "name": "python3"
  },
  "language_info": {
   "codemirror_mode": {
    "name": "ipython",
    "version": 3
   },
   "file_extension": ".py",
   "mimetype": "text/x-python",
   "name": "python",
   "nbconvert_exporter": "python",
   "pygments_lexer": "ipython3",
   "version": "3.6.1"
  }
 },
 "nbformat": 4,
 "nbformat_minor": 2
}
