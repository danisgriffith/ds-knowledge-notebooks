{
 "cells": [
  {
   "cell_type": "markdown",
   "metadata": {},
   "source": [
    "# CROSS VALIDATION : N FOLD (LOOCV)\n",
    "\n",
    "<br>"
   ]
  },
  {
   "cell_type": "markdown",
   "metadata": {},
   "source": [
    "## Introduction\n",
    "\n",
    "<br>\n",
    "When <b>the number of folds equals the number of samples</b> ($k = N$), we refer to k-fold cross-validation as <b>leave-one-out cross-validation (LOOCV)</b>. \n",
    "\n",
    "<br>\n",
    "In each iteration of LOOCV, we fit a model to $N - 1$ samples of the dataset and evaluate it on the single, remaining data point. Although this process is <b>computationally expensive</b> ($N$ iterations), it can be <b>particularly useful for small datasets</b>,  where withholding data from the training set would be too wasteful.\n"
   ]
  },
  {
   "cell_type": "markdown",
   "metadata": {},
   "source": [
    "<img src=\"images/n-fold-summary.png\" width=\"50%\" height=\"50%\">"
   ]
  },
  {
   "cell_type": "code",
   "execution_count": 1,
   "metadata": {
    "collapsed": true
   },
   "outputs": [],
   "source": [
    "# SETUP : importing\n",
    "\n",
    "import numpy as np\n",
    "import pandas as pd\n",
    "from sklearn.datasets import load_iris\n",
    "\n",
    "from matplotlib import pyplot as plt\n",
    "%matplotlib inline\n",
    "import seaborn as sns\n",
    "sns.set(style=\"darkgrid\")\n",
    "\n",
    "#import sklearn.linear_model as lm\n",
    "import sklearn.neighbors as nbr\n",
    "from sklearn.model_selection import KFold\n",
    "import sklearn.metrics as mtr\n",
    "\n",
    "import utilcompute as uc\n",
    "from pprint import pprint\n"
   ]
  },
  {
   "cell_type": "code",
   "execution_count": 2,
   "metadata": {
    "collapsed": true
   },
   "outputs": [],
   "source": [
    "# SETUP : reading in the datasets\n",
    "\n",
    "data = np.column_stack( (load_iris().data, load_iris().target) )\n",
    "df = pd.DataFrame(data)\n",
    "df.columns = ['sepal length', 'sepal width', 'petal length', 'petal width', 'species']\n",
    "\n",
    "#print('df.shape[0] : ', df.shape[0])\n"
   ]
  },
  {
   "cell_type": "code",
   "execution_count": 3,
   "metadata": {
    "collapsed": true
   },
   "outputs": [],
   "source": [
    "#df.describe()"
   ]
  },
  {
   "cell_type": "code",
   "execution_count": 4,
   "metadata": {
    "collapsed": true
   },
   "outputs": [],
   "source": [
    "# DATA PREPROCESSING : deleting features\n",
    "\n",
    "to_delete = []\n",
    "cols = [c for c in df.columns.values.tolist() if (c not in to_delete)]\n",
    "df = df[cols]\n",
    "\n",
    "#print('columns : ', df.columns.values.tolist())"
   ]
  },
  {
   "cell_type": "code",
   "execution_count": 5,
   "metadata": {
    "collapsed": true
   },
   "outputs": [],
   "source": [
    "target = 'species'\n",
    "if (isinstance(target, list)):\n",
    "    features = [c for c in df.columns.values.tolist() if (c not in target)]\n",
    "else:\n",
    "    features = [c for c in df.columns.values.tolist() if (c != target)]\n",
    "\n",
    "#print('features : ', features)\n",
    "#print('target   : ', target)"
   ]
  },
  {
   "cell_type": "code",
   "execution_count": 6,
   "metadata": {},
   "outputs": [
    {
     "name": "stdout",
     "output_type": "stream",
     "text": [
      "df : \n",
      "\n",
      "{'petal length': 173.96896536339727,\n",
      " 'petal width': 55.48868864572551,\n",
      " 'sepal length': 264.7457109493044,\n",
      " 'sepal width': 97.111605833803296}\n",
      "\n",
      "df_std : \n",
      "\n",
      "{'petal length': 31.397291650719751,\n",
      " 'petal width': 16.141563956997683,\n",
      " 'sepal length': 7.1031134428332869,\n",
      " 'sepal width': 2.0990386257420881}\n"
     ]
    }
   ],
   "source": [
    "# DATA PREPROCESSING : features standardization\n",
    "\n",
    "vif_dict = uc.compute_vif(df = df, features = features)\n",
    "print('df : ')\n",
    "print()\n",
    "pprint(vif_dict)\n",
    "\n",
    "print()\n",
    "\n",
    "df_std = uc.standardize(df = df, included = features, excluded = target)\n",
    "\n",
    "vif_dict = uc.compute_vif(df = df_std, features = features)\n",
    "print('df_std : ')\n",
    "print()\n",
    "pprint(vif_dict)\n"
   ]
  },
  {
   "cell_type": "code",
   "execution_count": 7,
   "metadata": {
    "collapsed": true
   },
   "outputs": [],
   "source": [
    "# DATA PREPROCESSING : vif subset selection [reduces multicollinearity]\n",
    "\n",
    "VIF = False\n",
    "\n",
    "if (VIF):\n",
    "    selected_features = uc.vif_best_subset_selection(\n",
    "        vif_threshold = 5, \n",
    "        df = df_std, \n",
    "        features = features, \n",
    "        level = len(features), \n",
    "        debug = False\n",
    "    )\n",
    "    t = uc.concatenate(features, target)\n",
    "    df_std = df_std[t]\n",
    "    \n",
    "    vif_dict = uc.compute_vif(df = df_std, features = selected_features)\n",
    "    pprint(vif_dict)\n",
    "else:\n",
    "    selected_features = features\n"
   ]
  },
  {
   "cell_type": "code",
   "execution_count": 8,
   "metadata": {},
   "outputs": [
    {
     "name": "stdout",
     "output_type": "stream",
     "text": [
      "['petal length' 'petal width' 'sepal length' 'sepal width' 'species']\n"
     ]
    }
   ],
   "source": [
    "# DATA PREPROCESSING : final setup\n",
    "\n",
    "df = df_std\n",
    "features = selected_features\n",
    "\n",
    "print(df_std.columns.values)"
   ]
  },
  {
   "cell_type": "code",
   "execution_count": 9,
   "metadata": {},
   "outputs": [
    {
     "name": "stdout",
     "output_type": "stream",
     "text": [
      "k (# of folds) :  150\n"
     ]
    }
   ],
   "source": [
    "# GLOBAL PARAMETERS \n",
    "\n",
    "n_splits = len(df)\n",
    "\n",
    "print('k (# of folds) : ', n_splits)\n"
   ]
  },
  {
   "cell_type": "code",
   "execution_count": 10,
   "metadata": {},
   "outputs": [
    {
     "name": "stdout",
     "output_type": "stream",
     "text": [
      "[ 0.  1.  2.]\n"
     ]
    }
   ],
   "source": [
    "print(df[target].unique())"
   ]
  },
  {
   "cell_type": "code",
   "execution_count": 11,
   "metadata": {
    "collapsed": true
   },
   "outputs": [],
   "source": [
    "columns = ['iteration', 'err_train', 'err_test']\n",
    "results_df = pd.DataFrame(data = None, index = None, columns = columns)\n",
    "\n",
    "kf = KFold(n_splits = n_splits, shuffle = False, random_state = None)    \n",
    "for k, (train_positions, test_positions) in enumerate(kf.split(X = df[features], y = df[target])) :\n",
    "\n",
    "    fold_train = df.iloc[train_positions]   \n",
    "    fold_test = df.iloc[test_positions]  \n",
    "    \n",
    "    # if (k == 0):\n",
    "    #    print('train indices : {0} - {1}'.format(fold_train.index.values[:3], fold_train.index.values[-3:]))\n",
    "    #    print('test  indices : {0} - {1}'.format(fold_test.index.values[:3], fold_test.index.values[-3:]))\n",
    "    #    print()\n",
    "\n",
    "    #model = lm.LogisticRegression()\n",
    "    model = nbr.KNeighborsClassifier(n_neighbors = 5)\n",
    "    model.fit(fold_train[features], fold_train[target])\n",
    "\n",
    "    y_pred_train = model.predict(fold_train[features])\n",
    "    y_pred_test = model.predict(fold_test[features])\n",
    "    \n",
    "    #metrics_train = uc.compute_classification_metrics(y = fold_train[target], y_pred = y_pred_train)\n",
    "    #metrics_test = uc.compute_classification_metrics(y = fold_test[target], y_pred = y_pred_test)\n",
    "    \n",
    "    acc_train = mtr.accuracy_score(y_true = fold_train[target], y_pred = y_pred_train, normalize = True, sample_weight = None)\n",
    "    acc_test = mtr.accuracy_score(y_true = fold_test[target], y_pred = y_pred_test, normalize = True, sample_weight = None)\n",
    "    \n",
    "    values_dict = {\n",
    "        'iteration' : k + 1,            \n",
    "        #'err_train' : 1 - metrics_train['ACCURACY'],\n",
    "        #'err_test' : 1 - metrics_test['ACCURACY'],\n",
    "        'err_train' : 1 - acc_train,\n",
    "        'err_test' : 1 - acc_test,\n",
    "    }\n",
    "    \n",
    "    results_index = k\n",
    "    results_df.loc[results_index] = values_dict     \n",
    "    \n",
    "\n",
    "results_df = results_df.astype(dtype = 'float')\n",
    "#print(results_df)\n"
   ]
  },
  {
   "cell_type": "code",
   "execution_count": 14,
   "metadata": {},
   "outputs": [
    {
     "name": "stdout",
     "output_type": "stream",
     "text": [
      "\n",
      "train | err mean :  0.046219239373601693\n",
      "train | err std  :  0.0029646130171116086\n",
      "\n",
      "test  | err mean :  0.05333333333333334\n",
      "test  | err std  :  0.2254500842585117\n"
     ]
    }
   ],
   "source": [
    "print()\n",
    "print('train | err mean : ', results_df['err_train'].mean())\n",
    "print('train | err std  : ', results_df['err_train'].std())\n",
    "\n",
    "print()\n",
    "print('test  | err mean : ', results_df['err_test'].mean())\n",
    "print('test  | err std  : ', results_df['err_test'].std())\n"
   ]
  },
  {
   "cell_type": "code",
   "execution_count": 13,
   "metadata": {},
   "outputs": [
    {
     "data": {
      "image/png": "[encoded data removed]",
      "text/plain": [
       "<matplotlib.figure.Figure at 0x243eef842e8>"
      ]
     },
     "metadata": {},
     "output_type": "display_data"
    }
   ],
   "source": [
    "fig, axs = plt.subplots(nrows = 1, ncols = 2, figsize=(20, 6), sharey = True) \n",
    "\n",
    "it_min = results_df['iteration'].min()\n",
    "it_max = results_df['iteration'].max()\n",
    "\n",
    "err_train_mean = results_df['err_train'].mean()\n",
    "err_test_mean = results_df['err_test'].mean()\n",
    "\n",
    "axs[0].plot(results_df['iteration'], results_df['err_train'], color = 'blue', label = 'err train')\n",
    "axs[0].plot( (it_min, it_max), (err_train_mean, err_train_mean), color = 'blue', lw = 2, linestyle = '--')\n",
    "axs[0].set_xlabel('iteration')\n",
    "axs[0].legend(loc = 'best')\n",
    "\n",
    "axs[1].plot(results_df['iteration'], results_df['err_test'], color = 'red', label = 'err test')\n",
    "axs[1].plot( (it_min, it_max), (err_test_mean, err_test_mean), color = 'red', lw = 2, linestyle = '--')\n",
    "axs[1].set_xlabel('iteration')\n",
    "axs[1].legend(loc = 'best')\n",
    "\n",
    "plt.tight_layout()\n",
    "plt.show()"
   ]
  },
  {
   "cell_type": "markdown",
   "metadata": {},
   "source": [
    "## Considerations\n",
    "\n",
    "<br>\n",
    "We can consider the LOOCV estimate of the generalization performance as being <b>approximately unbiased</b>: the pessimistic bias of LOOCV is intuitively lower compared to $k < N$-fold cross validation, <b>since almost all training samples are available for model fitting</b>.\n",
    "\n",
    "<br>\n",
    "While LOOCV is almost unbiased, one downside over k-fold cross-validation is the <b>large variance</b> of the LOOCV estimate. It is often said that LOOCV :\n",
    "\n",
    "<br>\n",
    "<blockquote>\n",
    "    has high variance because the test set only contains one sample (Tan and others, 2005)\n",
    "</blockquote>\n",
    "<blockquote>\n",
    "    is highly variable, since it is based upon a single observation (Gareth and others, 2013)\n",
    "</blockquote>\n",
    "\n",
    "<br>\n",
    "These statements are certainly true if we refer to the variance between folds, which is a poor estimate of the variance of the LOOCV estimate : the variability due to randomness in our training data. \n",
    "\n",
    "We can estimate the variability of a statistic (here the generalization performance of the model) from the variability of that statistic between sub-samples; in other words, the difference in the results that we would get if we repeated the resampling procedure multiple times on different data samples from the underlying distribution. \n",
    "\n",
    "<br>Thus, a more interesting point has been made by Hastie, Tibshirani, and Friedman :\n",
    "\n",
    "<br>\n",
    "<blockquote>\n",
    "    with $k = N$, the cross validation estimator is approximately unbiased for the true (expected) prediction error, but can\n",
    "    have high variance <b>because the N training sets are so similar to one another</b> (Hastie and others, 2009)\n",
    "</blockquote>\n",
    "\n",
    "<br>\n",
    "We can attribute the high variance of LOOCV to the well-known fact that the mean of highly correlated variables has a higher variance than the mean of variables that are not highly correlated. \n",
    "\n",
    "<br>\n",
    "LOOCV guarantees a non-stratified sample (there is only one data point in the test set).\n",
    "\n",
    "<br>\n",
    "As already mentioned in the introduction, the high computational cost of LOOCV is only justified for small datasets, situations where withholding data from the training set would compromise the estimate."
   ]
  },
  {
   "cell_type": "markdown",
   "metadata": {},
   "source": [
    "## References\n",
    "\n",
    "<br>\n",
    "<ul style=\"list-style-type:square\">\n",
    "    <li>\n",
    "         Sebastian Raschka - \n",
    "         <a href=\"https://bit.ly/2LEwbSN\">\n",
    "         Model evaluation, model selection, and algorithm selection in machine learning - Part III</a>        \n",
    "    </li>\n",
    "</ul>"
   ]
  }
 ],
 "metadata": {
  "kernelspec": {
   "display_name": "Python 3",
   "language": "python",
   "name": "python3"
  },
  "language_info": {
   "codemirror_mode": {
    "name": "ipython",
    "version": 3
   },
   "file_extension": ".py",
   "mimetype": "text/x-python",
   "name": "python",
   "nbconvert_exporter": "python",
   "pygments_lexer": "ipython3",
   "version": "3.6.1"
  }
 },
 "nbformat": 4,
 "nbformat_minor": 2
}
