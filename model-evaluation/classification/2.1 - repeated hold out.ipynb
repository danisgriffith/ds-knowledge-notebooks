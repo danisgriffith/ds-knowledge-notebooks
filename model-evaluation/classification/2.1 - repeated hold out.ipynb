{
 "cells": [
  {
   "cell_type": "markdown",
   "metadata": {},
   "source": [
    "# <font color='#28B463'>REPEATED HOLD-OUT\n",
    "\n",
    "<br>"
   ]
  },
  {
   "cell_type": "markdown",
   "metadata": {},
   "source": [
    "## <font color='#28B463'>Introduction\n",
    "\n",
    "<br>\n",
    "One way to obtain a more robust performance estimate that is less variant to how we split the data into training and test sets is to repeat the holdout method $n$ times with different random seeds and compute the average performance over these $n$ iterations. \n",
    "\n",
    "<br>\n",
    "This repeated holdout procedure (sometimes also called Monte Carlo Cross-Validation), provides a better estimate of how well our model may perform on a random test set, and it can also give us an idea about our model stability : how the model produced by a learning algorithm changes with different training set splits.\n"
   ]
  },
  {
   "cell_type": "code",
   "execution_count": 1,
   "metadata": {
    "collapsed": true
   },
   "outputs": [],
   "source": [
    "# SETUP : importing\n",
    "\n",
    "import numpy as np\n",
    "import pandas as pd\n",
    "from sklearn.datasets import load_iris\n",
    "\n",
    "from matplotlib import pyplot as plt\n",
    "%matplotlib inline\n",
    "import seaborn as sns\n",
    "sns.set(style=\"darkgrid\")\n",
    "\n",
    "#import sklearn.linear_model as lm\n",
    "import sklearn.neighbors as nbr\n",
    "import sklearn.metrics as mtr\n",
    "\n",
    "import utilcompute as uc\n",
    "from pprint import pprint\n"
   ]
  },
  {
   "cell_type": "code",
   "execution_count": 2,
   "metadata": {
    "collapsed": true
   },
   "outputs": [],
   "source": [
    "# SETUP : reading in the datasets\n",
    "\n",
    "data = np.column_stack( (load_iris().data, load_iris().target) )\n",
    "df = pd.DataFrame(data)\n",
    "df.columns = ['sepal length', 'sepal width', 'petal length', 'petal width', 'species']\n",
    "\n",
    "#print('df.shape[0] : ', df.shape[0])\n"
   ]
  },
  {
   "cell_type": "code",
   "execution_count": 3,
   "metadata": {
    "collapsed": true
   },
   "outputs": [],
   "source": [
    "#df.describe()"
   ]
  },
  {
   "cell_type": "code",
   "execution_count": 4,
   "metadata": {
    "collapsed": true
   },
   "outputs": [],
   "source": [
    "# DATA PREPROCESSING : deleting features\n",
    "\n",
    "to_delete = []\n",
    "cols = [c for c in df.columns.values.tolist() if (c not in to_delete)]\n",
    "df = df[cols]\n",
    "\n",
    "#print('columns : ', df.columns.values.tolist())"
   ]
  },
  {
   "cell_type": "code",
   "execution_count": 5,
   "metadata": {
    "collapsed": true
   },
   "outputs": [],
   "source": [
    "target = 'species'\n",
    "if (isinstance(target, list)):\n",
    "    features = [c for c in df.columns.values.tolist() if (c not in target)]\n",
    "else:\n",
    "    features = [c for c in df.columns.values.tolist() if (c != target)]\n",
    "\n",
    "#print('features : ', features)\n",
    "#print('target   : ', target)"
   ]
  },
  {
   "cell_type": "code",
   "execution_count": 6,
   "metadata": {},
   "outputs": [
    {
     "name": "stdout",
     "output_type": "stream",
     "text": [
      "df : \n",
      "\n",
      "{'petal length': 173.96896536339727,\n",
      " 'petal width': 55.48868864572551,\n",
      " 'sepal length': 264.7457109493044,\n",
      " 'sepal width': 97.111605833803296}\n",
      "\n",
      "df_std : \n",
      "\n",
      "{'petal length': 31.397291650719751,\n",
      " 'petal width': 16.141563956997683,\n",
      " 'sepal length': 7.1031134428332869,\n",
      " 'sepal width': 2.0990386257420881}\n"
     ]
    }
   ],
   "source": [
    "# DATA PREPROCESSING : features standardization\n",
    "\n",
    "vif_dict = uc.compute_vif(df = df, features = features)\n",
    "print('df : ')\n",
    "print()\n",
    "pprint(vif_dict)\n",
    "\n",
    "print()\n",
    "\n",
    "df_std = uc.standardize(df = df, included = features, excluded = target)\n",
    "\n",
    "vif_dict = uc.compute_vif(df = df_std, features = features)\n",
    "print('df_std : ')\n",
    "print()\n",
    "pprint(vif_dict)\n"
   ]
  },
  {
   "cell_type": "code",
   "execution_count": 7,
   "metadata": {
    "collapsed": true
   },
   "outputs": [],
   "source": [
    "# DATA PREPROCESSING : vif subset selection [reduces multicollinearity]\n",
    "\n",
    "VIF = False\n",
    "\n",
    "if (VIF):\n",
    "    selected_features = uc.vif_best_subset_selection(\n",
    "        vif_threshold = 5, \n",
    "        df = df_std, \n",
    "        features = features, \n",
    "        level = len(features), \n",
    "        debug = False\n",
    "    )\n",
    "    t = uc.concatenate(features, target)\n",
    "    df_std = df_std[t]\n",
    "    \n",
    "    vif_dict = uc.compute_vif(df = df_std, features = selected_features)\n",
    "    pprint(vif_dict)\n",
    "else:\n",
    "    selected_features = features\n"
   ]
  },
  {
   "cell_type": "code",
   "execution_count": 8,
   "metadata": {},
   "outputs": [
    {
     "name": "stdout",
     "output_type": "stream",
     "text": [
      "['petal length' 'petal width' 'sepal length' 'sepal width' 'species']\n"
     ]
    }
   ],
   "source": [
    "# DATA PREPROCESSING : final setup\n",
    "\n",
    "df = df_std\n",
    "features = selected_features\n",
    "\n",
    "print(df_std.columns.values)"
   ]
  },
  {
   "cell_type": "code",
   "execution_count": 9,
   "metadata": {},
   "outputs": [
    {
     "name": "stdout",
     "output_type": "stream",
     "text": [
      "train set size   :  120\n",
      "test  set size   :  30\n",
      "\n",
      "seeds : [1, 2, 3] ... [98, 99, 100]\n"
     ]
    }
   ],
   "source": [
    "# GLOBAL PARAMETERS \n",
    "\n",
    "train_perc = 0.8\n",
    "delimiter = int(len(df) * train_perc)\n",
    "seeds = range(1, 100 + 1)\n",
    "\n",
    "print('train set size   : ', delimiter)\n",
    "print('test  set size   : ', (len(df) - delimiter))\n",
    "print()\n",
    "print('seeds : {0} ... {1}'.format(list(seeds)[:3], list(seeds)[-3:]))\n"
   ]
  },
  {
   "cell_type": "code",
   "execution_count": 10,
   "metadata": {
    "collapsed": true
   },
   "outputs": [],
   "source": [
    "scores_train = []\n",
    "scores_test = []\n",
    "\n",
    "for (s_index, s) in enumerate(seeds):\n",
    "    np.random.seed(s)\n",
    "    df_shuffled = df.reindex(np.random.permutation(df.index))    \n",
    "    \n",
    "    train = df_shuffled[:delimiter]\n",
    "    test = df_shuffled[delimiter:]\n",
    "    \n",
    "    #if (s_index == 0):\n",
    "    #    print('df_shuffled indices : {0} ... {1}'.format(df_shuffled.index.values[:3], df_shuffled.index.values[-3:]))     \n",
    "    #    print('train set/fold size : ', len(train))\n",
    "    #    print('test  set/fold size : ', len(test))\n",
    "    #    print()\n",
    "    #    print('train : {0} - {1}'.format(train.index.values.tolist()[:3], train.index.values[-3:]))\n",
    "    #    print('test  : {0} - {1}'.format(test.index.values.tolist()[:3], test.index.values[-3:]))\n",
    "    #    print()\n",
    "    \n",
    "    #model = lm.LogisticRegression()\n",
    "    model = nbr.KNeighborsClassifier(n_neighbors = 5)\n",
    "    model.fit(train[features], train[target])\n",
    "    \n",
    "    y_pred_train = model.predict(train[features])\n",
    "    y_pred_test = model.predict(test[features])\n",
    "    \n",
    "    #metrics_train = uc.compute_classification_metrics(y = train[target], y_pred = y_pred_train)\n",
    "    #metrics_test = uc.compute_classification_metrics(y = test[target], y_pred = y_pred_test)\n",
    "    \n",
    "    acc_train = mtr.accuracy_score(y_true = train[target], y_pred = y_pred_train, normalize = True, sample_weight = None)\n",
    "    acc_test = mtr.accuracy_score(y_true = test[target], y_pred = y_pred_test, normalize = True, sample_weight = None)\n",
    "    \n",
    "    #scores_train.append(1 - metrics_train['ACCURACY'])\n",
    "    #scores_test.append(1 - metrics_test['ACCURACY'])\n",
    "    \n",
    "    scores_train.append(1 - acc_train)\n",
    "    scores_test.append(1 - acc_test)\n",
    "    "
   ]
  },
  {
   "cell_type": "code",
   "execution_count": 11,
   "metadata": {},
   "outputs": [
    {
     "name": "stdout",
     "output_type": "stream",
     "text": [
      "\n",
      "train | err mean :  0.0378333333333\n",
      "train | err std  :  0.0123839053255\n",
      "\n",
      "test  | err mean :  0.0496666666667\n",
      "test  | err std  :  0.0344786568442\n"
     ]
    }
   ],
   "source": [
    "print()\n",
    "print('train | err mean : ', np.mean(scores_train))\n",
    "print('train | err std  : ', np.std(scores_train))\n",
    "\n",
    "print()\n",
    "print('test  | err mean : ', np.mean(scores_test))\n",
    "print('test  | err std  : ', np.std(scores_test))\n"
   ]
  },
  {
   "cell_type": "code",
   "execution_count": 12,
   "metadata": {},
   "outputs": [
    {
     "data": {
      "image/png": "[encoded data removed]",
      "text/plain": [
       "<matplotlib.figure.Figure at 0x1bdf6a07cf8>"
      ]
     },
     "metadata": {},
     "output_type": "display_data"
    }
   ],
   "source": [
    "fig, axs = plt.subplots(nrows = 1, ncols = 2, figsize=(20, 6), sharey = True) \n",
    "\n",
    "width = 0.2\n",
    "tick_label = np.array( list(range(1, 101 + 1, 10)) ) -1\n",
    "axs[0].bar(left = np.array(seeds), height = scores_train, width = width, align = 'center', color = 'blue', label = 'err train')\n",
    "axs[0].plot( (min(seeds), max(seeds)), (np.mean(scores_train), np.mean(scores_train)), color = 'blue', lw = 2, linestyle = '--')\n",
    "axs[0].legend(loc='best')\n",
    "\n",
    "axs[1].bar(left = np.array(seeds), height = scores_train, width = width, align = 'center', color = 'red', label = 'err test')\n",
    "axs[1].plot( (min(seeds), max(seeds)), (np.mean(scores_test), np.mean(scores_test)), color = 'red', lw = 2, linestyle = '--')\n",
    "axs[1].legend(loc='best')\n",
    "\n",
    "plt.tight_layout()\n",
    "plt.show()"
   ]
  },
  {
   "cell_type": "markdown",
   "metadata": {},
   "source": [
    "## <font color='#28B463'>Considerations\n",
    "\n",
    "<br>\n",
    "<b>The distribution of data points which happen to fall in the training or test set obviously has a huge effect on the model stability</b>, but why ? We can analyze this behaviour in terms of sampling.\n",
    "\n",
    "<br>\n",
    "One of the fundamental assumptions we make every time we run a classification (or prediction) algorithm is that our samples are IID, which means that all samples have been drawn from the same probability distribution and are statistically independent from each other.\n",
    "\n",
    "<br>\n",
    "We also typically assume that the original dataset is a representative sample of the true population, further sub-sampling without replacement alters the statistics (mean, proportion, and variance) of the sub-samples; the degree to which sub-sampling without replacement affects the statistics of a sample is inversely proportional to the size of the sample.\n",
    "\n",
    "<br>\n",
    "What does simple random sampling have to do with hold out validation ? <br>\n",
    "Since we are not sampling, at least not in this notebook, the logic of simple random sampling applies by analogy; just like the points distribution of the sub-samples depend on which points are selected, <b>the distribution of features and target within training and test sets (and therefore the properties of these two datasets, along with prediction accuracy) vary widely, depending on which points happen to fall in the former or in the latter</b>. \n",
    "\n",
    "<br>\n",
    "<b>In repeated hold-out validation</b> we still have iterations with non-representative or skewed distributions of the data points, but <b>by averaging over the totality of our iterations we obtain a more robust estimate of the expected classification (or regression) error. The average value of our error metric is more reliable because it has been subject to a broader range of possible train-test splits.</b>\n",
    "\n",
    "<br>\n",
    "<font color='#28B463'><b>Further questions/issues</b></font> :\n",
    "\n",
    "<br>\n",
    "<ul style=\"list-style-type:square\">\n",
    "    <li>\n",
    "        the different test (or training) sets may overlap; the repeated use of samples for testing results in performance\n",
    "        estimates that become dependent between rounds, this dependence can be problematic for statistical comparisons\n",
    "    </li>\n",
    "    <br>\n",
    "    <li>\n",
    "        some data points may never appear in training (or test) set (inherited from hold-out validation)\n",
    "    </li>\n",
    "    <br>\n",
    "    <li>\n",
    "        the size we choose for the test set (inherited from hold-out validation)\n",
    "    </li>\n",
    "</ul>\n",
    "\n",
    "<br>\n",
    "<font color='#28B463'><b>Note</b></font> : see Stratified Hold-Out\n"
   ]
  },
  {
   "cell_type": "markdown",
   "metadata": {},
   "source": [
    "## <font color='#28B463'>References\n",
    "\n",
    "<br>\n",
    "<ul style=\"list-style-type:square\">\n",
    "    <li>\n",
    "        Sebastian Raschka - Model evaluation, model selection, and algorithm selection in machine learning - Part II <br>\n",
    "        https://sebastianraschka.com/blog/2016/model-evaluation-selection-part2.html\n",
    "    </li>\n",
    "</ul>\n"
   ]
  }
 ],
 "metadata": {
  "kernelspec": {
   "display_name": "Python 3",
   "language": "python",
   "name": "python3"
  },
  "language_info": {
   "codemirror_mode": {
    "name": "ipython",
    "version": 3
   },
   "file_extension": ".py",
   "mimetype": "text/x-python",
   "name": "python",
   "nbconvert_exporter": "python",
   "pygments_lexer": "ipython3",
   "version": "3.6.1"
  }
 },
 "nbformat": 4,
 "nbformat_minor": 2
}
