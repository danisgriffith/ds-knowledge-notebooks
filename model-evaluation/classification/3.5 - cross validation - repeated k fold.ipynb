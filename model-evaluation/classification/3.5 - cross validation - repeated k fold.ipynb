{
 "cells": [
  {
   "cell_type": "markdown",
   "metadata": {},
   "source": [
    "# CROSS VALIDATION : REPEATED K-FOLD \n",
    "\n",
    "<br>"
   ]
  },
  {
   "cell_type": "markdown",
   "metadata": {},
   "source": [
    "## Introduction\n",
    "\n",
    "<br>\n",
    "<b>Repeatead k-fold cross-validation is often used in hope to obtain a more robust estimate</b> : repetition (with shuffling) helps mitigating the fact that, in regular k-fold cv, whole groups of data points near to each other (a 'fold') will always be selected together for either train or test set, the aim is to expose the model to more randomness."
   ]
  },
  {
   "cell_type": "code",
   "execution_count": 1,
   "metadata": {
    "collapsed": true
   },
   "outputs": [],
   "source": [
    "# SETUP : importing\n",
    "\n",
    "import numpy as np\n",
    "import pandas as pd\n",
    "from sklearn.datasets import load_iris\n",
    "\n",
    "from matplotlib import pyplot as plt\n",
    "%matplotlib inline\n",
    "import seaborn as sns\n",
    "sns.set(style=\"darkgrid\")\n",
    "\n",
    "#import sklearn.linear_model as lm\n",
    "import sklearn.neighbors as nbr\n",
    "from sklearn.model_selection import KFold\n",
    "import sklearn.metrics as mtr\n",
    "\n",
    "import utilcompute as uc\n",
    "from pprint import pprint\n"
   ]
  },
  {
   "cell_type": "code",
   "execution_count": 2,
   "metadata": {
    "collapsed": true
   },
   "outputs": [],
   "source": [
    "# SETUP : reading in the datasets\n",
    "\n",
    "data = np.column_stack( (load_iris().data, load_iris().target) )\n",
    "df = pd.DataFrame(data)\n",
    "df.columns = ['sepal length', 'sepal width', 'petal length', 'petal width', 'species']\n",
    "\n",
    "#print('df.shape[0] : ', df.shape[0])\n"
   ]
  },
  {
   "cell_type": "code",
   "execution_count": 3,
   "metadata": {
    "collapsed": true
   },
   "outputs": [],
   "source": [
    "#df.describe()"
   ]
  },
  {
   "cell_type": "code",
   "execution_count": 4,
   "metadata": {
    "collapsed": true
   },
   "outputs": [],
   "source": [
    "# DATA PREPROCESSING : deleting features\n",
    "\n",
    "to_delete = []\n",
    "cols = [c for c in df.columns.values.tolist() if (c not in to_delete)]\n",
    "df = df[cols]\n",
    "\n",
    "#print('columns : ', df.columns.values.tolist())"
   ]
  },
  {
   "cell_type": "code",
   "execution_count": 5,
   "metadata": {
    "collapsed": true
   },
   "outputs": [],
   "source": [
    "target = 'species'\n",
    "if (isinstance(target, list)):\n",
    "    features = [c for c in df.columns.values.tolist() if (c not in target)]\n",
    "else:\n",
    "    features = [c for c in df.columns.values.tolist() if (c != target)]\n",
    "\n",
    "#print('features : ', features)\n",
    "#print('target   : ', target)"
   ]
  },
  {
   "cell_type": "code",
   "execution_count": 6,
   "metadata": {},
   "outputs": [
    {
     "name": "stdout",
     "output_type": "stream",
     "text": [
      "df : \n",
      "\n",
      "{'petal length': 173.96896536339727,\n",
      " 'petal width': 55.48868864572551,\n",
      " 'sepal length': 264.7457109493044,\n",
      " 'sepal width': 97.111605833803296}\n",
      "\n",
      "df_std : \n",
      "\n",
      "{'petal length': 31.397291650719751,\n",
      " 'petal width': 16.141563956997683,\n",
      " 'sepal length': 7.1031134428332869,\n",
      " 'sepal width': 2.0990386257420881}\n"
     ]
    }
   ],
   "source": [
    "# DATA PREPROCESSING : features standardization\n",
    "\n",
    "vif_dict = uc.compute_vif(df = df, features = features)\n",
    "print('df : ')\n",
    "print()\n",
    "pprint(vif_dict)\n",
    "\n",
    "print()\n",
    "\n",
    "df_std = uc.standardize(df = df, included = features, excluded = target)\n",
    "\n",
    "vif_dict = uc.compute_vif(df = df_std, features = features)\n",
    "print('df_std : ')\n",
    "print()\n",
    "pprint(vif_dict)\n"
   ]
  },
  {
   "cell_type": "code",
   "execution_count": 7,
   "metadata": {
    "collapsed": true
   },
   "outputs": [],
   "source": [
    "# DATA PREPROCESSING : vif subset selection [reduces multicollinearity]\n",
    "\n",
    "VIF = False\n",
    "\n",
    "if (VIF):\n",
    "    selected_features = uc.vif_best_subset_selection(\n",
    "        vif_threshold = 5, \n",
    "        df = df_std, \n",
    "        features = features, \n",
    "        level = len(features), \n",
    "        debug = False\n",
    "    )\n",
    "    t = uc.concatenate(features, target)\n",
    "    df_std = df_std[t]\n",
    "    \n",
    "    vif_dict = uc.compute_vif(df = df_std, features = selected_features)\n",
    "    pprint(vif_dict)\n",
    "else:\n",
    "    selected_features = features\n"
   ]
  },
  {
   "cell_type": "code",
   "execution_count": 8,
   "metadata": {},
   "outputs": [
    {
     "name": "stdout",
     "output_type": "stream",
     "text": [
      "['petal length' 'petal width' 'sepal length' 'sepal width' 'species']\n"
     ]
    }
   ],
   "source": [
    "# DATA PREPROCESSING : final setup\n",
    "\n",
    "df = df_std\n",
    "features = selected_features\n",
    "\n",
    "print(df_std.columns.values)"
   ]
  },
  {
   "cell_type": "code",
   "execution_count": 9,
   "metadata": {},
   "outputs": [
    {
     "name": "stdout",
     "output_type": "stream",
     "text": [
      "k (# of folds) :  10\n",
      "seeds :  range(1, 51)\n"
     ]
    }
   ],
   "source": [
    "# GLOBAL PARAMETERS \n",
    "\n",
    "n_splits = 10\n",
    "seeds = range(1, 50 + 1)\n",
    "\n",
    "print('k (# of folds) : ', n_splits)\n",
    "print('seeds : ', seeds)\n"
   ]
  },
  {
   "cell_type": "code",
   "execution_count": 10,
   "metadata": {
    "collapsed": true
   },
   "outputs": [],
   "source": [
    "columns = ['seed', 'iteration', 'err_train', 'err_test']\n",
    "results_df = pd.DataFrame(data = None, index = None, columns = columns)\n",
    "\n",
    "results_index = 0\n",
    "for (s_index, s) in enumerate(seeds):\n",
    "\n",
    "    kf = KFold(n_splits = n_splits, shuffle = True, random_state = s)    \n",
    "    \n",
    "    for k, (train_positions, test_positions) in enumerate(kf.split(X = df[features], y = df[target])) :\n",
    "\n",
    "        fold_train = df.iloc[train_positions]   \n",
    "        fold_test = df.iloc[test_positions]  \n",
    "\n",
    "        # if (k == 0):\n",
    "        #    print('train indices : {0} - {1}'.format(fold_train.index.values[:3], fold_train.index.values[-3:]))\n",
    "        #    print('test  indices : {0} - {1}'.format(fold_test.index.values[:3], fold_test.index.values[-3:]))\n",
    "        #    print()\n",
    "\n",
    "        #model = lm.LogisticRegression()\n",
    "        model = nbr.KNeighborsClassifier(n_neighbors = 5)\n",
    "        model.fit(fold_train[features], fold_train[target])\n",
    "\n",
    "        y_pred_train = model.predict(fold_train[features])\n",
    "        y_pred_test = model.predict(fold_test[features])\n",
    "\n",
    "        #metrics_train = uc.compute_classification_metrics(y = fold_train[target], y_pred = y_pred_train)\n",
    "        #metrics_test = uc.compute_classification_metrics(y = fold_test[target], y_pred = y_pred_test)\n",
    "    \n",
    "        acc_train = mtr.accuracy_score(y_true = fold_train[target], y_pred = y_pred_train, normalize = True, sample_weight = None)\n",
    "        acc_test = mtr.accuracy_score(y_true = fold_test[target], y_pred = y_pred_test, normalize = True, sample_weight = None)\n",
    "            \n",
    "        values_dict = {\n",
    "            'seed' : s,\n",
    "            'iteration' : k + 1,            \n",
    "            #'err_train' : 1 - metrics_train['ACC'],\n",
    "            #'err_test' : 1 - metrics_test['ACC'],\n",
    "            'err_train' : 1 - acc_train,\n",
    "            'err_test' : 1 - acc_test,\n",
    "        }\n",
    "\n",
    "        results_df.loc[results_index] = values_dict  \n",
    "        results_index += 1\n",
    "\n",
    "results_df = results_df.astype(dtype = 'float')\n",
    "\n",
    "#condition = (results_df['iteration'] == 1)\n",
    "#print(results_df[condition])\n"
   ]
  },
  {
   "cell_type": "code",
   "execution_count": 11,
   "metadata": {},
   "outputs": [
    {
     "name": "stdout",
     "output_type": "stream",
     "text": [
      "\n",
      "train | err mean :  0.041170370370370316\n",
      "train | err std  :  0.009709277856986755\n",
      "\n",
      "test  | err mean :  0.05106666666666651\n",
      "test  | err std  :  0.05548290060978883\n"
     ]
    }
   ],
   "source": [
    "print()\n",
    "print('train | err mean : ', results_df['err_train'].mean())\n",
    "print('train | err std  : ', results_df['err_train'].std())\n",
    "\n",
    "print()\n",
    "print('test  | err mean : ', results_df['err_test'].mean())\n",
    "print('test  | err std  : ', results_df['err_test'].std())\n"
   ]
  },
  {
   "cell_type": "code",
   "execution_count": 21,
   "metadata": {},
   "outputs": [
    {
     "data": {
      "image/png": "[encoded data removed]",
      "text/plain": [
       "<matplotlib.figure.Figure at 0x25aead06cc0>"
      ]
     },
     "metadata": {},
     "output_type": "display_data"
    }
   ],
   "source": [
    "fig, axs = plt.subplots(nrows = 1, ncols = 2 , figsize=(20, 4), sharey = True)  \n",
    "\n",
    "it_min = results_df['iteration'].min() - 1 # (don't know why, but without -1 the plot starts in 2 and ends in 11)\n",
    "it_max = results_df['iteration'].max() - 1 # (don't know why, but without -1 the plot starts in 2 and ends in 11)\n",
    "\n",
    "err_train_mean = results_df['err_train'].mean()\n",
    "err_test_mean = results_df['err_test'].mean()\n",
    "\n",
    "sns.pointplot(x = 'iteration', y = 'err_train', data = results_df, join = True, color = 'blue', ax = axs[0], label = 'err train')\n",
    "axs[0].plot( (it_min, it_max), (err_train_mean, err_train_mean), color = 'blue', lw = 2, linestyle = '--')\n",
    "axs[0].set_ylabel('')    \n",
    "\n",
    "sns.pointplot(x = 'iteration', y = 'err_test', data = results_df, join = True, color = 'red', ax = axs[1], label = 'err test')\n",
    "axs[1].plot( (it_min, it_max), (err_test_mean, err_test_mean), color = 'red', lw = 2, linestyle = '--')\n",
    "axs[1].set_ylabel('')  \n",
    "\n",
    "plt.tight_layout()\n",
    "plt.show()\n"
   ]
  },
  {
   "cell_type": "markdown",
   "metadata": {},
   "source": [
    "## Considerations\n",
    "\n",
    "<br>\n",
    "We can observe :\n",
    "\n",
    "<br>\n",
    "<ul style=\"list-style-type:square\">\n",
    "    <li>\n",
    "        <b>small bias</b>\n",
    "    </li>\n",
    "    <br>\n",
    "    <li>\n",
    "        <b>small variance</b>\n",
    "    </li>\n",
    "    <br>  \n",
    "</ul>"
   ]
  },
  {
   "cell_type": "markdown",
   "metadata": {},
   "source": [
    "<br>\n",
    "<b>Further questions/issues</b> :\n",
    "\n",
    "<br>\n",
    "<ul style=\"list-style-type:square\">\n",
    "    <li>\n",
    "        repeated k-fold cross validation is even more computationally expensive than regular cv \n",
    "        the size we choose for the test set \n",
    "    </li>\n",
    "</ul>"
   ]
  }
 ],
 "metadata": {
  "kernelspec": {
   "display_name": "Python 3",
   "language": "python",
   "name": "python3"
  },
  "language_info": {
   "codemirror_mode": {
    "name": "ipython",
    "version": 3
   },
   "file_extension": ".py",
   "mimetype": "text/x-python",
   "name": "python",
   "nbconvert_exporter": "python",
   "pygments_lexer": "ipython3",
   "version": "3.6.1"
  }
 },
 "nbformat": 4,
 "nbformat_minor": 2
}
